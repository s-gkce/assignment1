{
 "cells": [
  {
   "cell_type": "code",
   "execution_count": 1,
   "id": "9f2b3a91-f699-47be-83f9-0990e8a6c6d6",
   "metadata": {
    "tags": []
   },
   "outputs": [
    {
     "name": "stderr",
     "output_type": "stream",
     "text": [
      "Warning message in system(\"timedatectl\", intern = TRUE):\n",
      "“running command 'timedatectl' had status 1”\n",
      "── \u001b[1mAttaching core tidyverse packages\u001b[22m ──────────────────────── tidyverse 2.0.0 ──\n",
      "\u001b[32m✔\u001b[39m \u001b[34mdplyr    \u001b[39m 1.1.4     \u001b[32m✔\u001b[39m \u001b[34mreadr    \u001b[39m 2.1.5\n",
      "\u001b[32m✔\u001b[39m \u001b[34mforcats  \u001b[39m 1.0.0     \u001b[32m✔\u001b[39m \u001b[34mstringr  \u001b[39m 1.5.1\n",
      "\u001b[32m✔\u001b[39m \u001b[34mggplot2  \u001b[39m 3.4.4     \u001b[32m✔\u001b[39m \u001b[34mtibble   \u001b[39m 3.2.1\n",
      "\u001b[32m✔\u001b[39m \u001b[34mlubridate\u001b[39m 1.9.3     \u001b[32m✔\u001b[39m \u001b[34mtidyr    \u001b[39m 1.3.1\n",
      "\u001b[32m✔\u001b[39m \u001b[34mpurrr    \u001b[39m 1.0.2     \n",
      "── \u001b[1mConflicts\u001b[22m ────────────────────────────────────────── tidyverse_conflicts() ──\n",
      "\u001b[31m✖\u001b[39m \u001b[34mdplyr\u001b[39m::\u001b[32mfilter()\u001b[39m masks \u001b[34mstats\u001b[39m::filter()\n",
      "\u001b[31m✖\u001b[39m \u001b[34mdplyr\u001b[39m::\u001b[32mlag()\u001b[39m    masks \u001b[34mstats\u001b[39m::lag()\n",
      "\u001b[36mℹ\u001b[39m Use the conflicted package (\u001b[3m\u001b[34m<http://conflicted.r-lib.org/>\u001b[39m\u001b[23m) to force all conflicts to become errors\n",
      "\n",
      "Attaching package: ‘data.table’\n",
      "\n",
      "\n",
      "The following objects are masked from ‘package:lubridate’:\n",
      "\n",
      "    hour, isoweek, mday, minute, month, quarter, second, wday, week,\n",
      "    yday, year\n",
      "\n",
      "\n",
      "The following objects are masked from ‘package:dplyr’:\n",
      "\n",
      "    between, first, last\n",
      "\n",
      "\n",
      "The following object is masked from ‘package:purrr’:\n",
      "\n",
      "    transpose\n",
      "\n",
      "\n"
     ]
    }
   ],
   "source": [
    "library(tidyverse)\n",
    "library(data.table)"
   ]
  },
  {
   "cell_type": "code",
   "execution_count": 2,
   "id": "03075b49-4e9c-4502-a9a0-b59fb6e1a4d3",
   "metadata": {
    "tags": []
   },
   "outputs": [],
   "source": [
    "adult_url <- \"https://archive.ics.uci.edu/ml/machine-learning-databases/adult/adult.data\"\n",
    "adult_data <- fread(adult_url, header = FALSE, sep = \",\", na.strings = \"?\")"
   ]
  },
  {
   "cell_type": "code",
   "execution_count": 3,
   "id": "486f129b-3bc1-463c-84ef-e379d036b0e3",
   "metadata": {
    "tags": []
   },
   "outputs": [
    {
     "data": {
      "text/html": [
       "<table class=\"dataframe\">\n",
       "<caption>A data.table: 6 × 15</caption>\n",
       "<thead>\n",
       "\t<tr><th scope=col>V1</th><th scope=col>V2</th><th scope=col>V3</th><th scope=col>V4</th><th scope=col>V5</th><th scope=col>V6</th><th scope=col>V7</th><th scope=col>V8</th><th scope=col>V9</th><th scope=col>V10</th><th scope=col>V11</th><th scope=col>V12</th><th scope=col>V13</th><th scope=col>V14</th><th scope=col>V15</th></tr>\n",
       "\t<tr><th scope=col>&lt;int&gt;</th><th scope=col>&lt;chr&gt;</th><th scope=col>&lt;int&gt;</th><th scope=col>&lt;chr&gt;</th><th scope=col>&lt;int&gt;</th><th scope=col>&lt;chr&gt;</th><th scope=col>&lt;chr&gt;</th><th scope=col>&lt;chr&gt;</th><th scope=col>&lt;chr&gt;</th><th scope=col>&lt;chr&gt;</th><th scope=col>&lt;int&gt;</th><th scope=col>&lt;int&gt;</th><th scope=col>&lt;int&gt;</th><th scope=col>&lt;chr&gt;</th><th scope=col>&lt;chr&gt;</th></tr>\n",
       "</thead>\n",
       "<tbody>\n",
       "\t<tr><td>39</td><td><span style=white-space:pre-wrap>State-gov       </span></td><td> 77516</td><td>Bachelors</td><td>13</td><td><span style=white-space:pre-wrap>Never-married     </span></td><td><span style=white-space:pre-wrap>Adm-clerical     </span></td><td>Not-in-family</td><td>White</td><td><span style=white-space:pre-wrap>Male  </span></td><td>2174</td><td>0</td><td>40</td><td>United-States</td><td>&lt;=50K</td></tr>\n",
       "\t<tr><td>50</td><td>Self-emp-not-inc</td><td> 83311</td><td>Bachelors</td><td>13</td><td>Married-civ-spouse</td><td><span style=white-space:pre-wrap>Exec-managerial  </span></td><td><span style=white-space:pre-wrap>Husband      </span></td><td>White</td><td><span style=white-space:pre-wrap>Male  </span></td><td><span style=white-space:pre-wrap>   0</span></td><td>0</td><td>13</td><td>United-States</td><td>&lt;=50K</td></tr>\n",
       "\t<tr><td>38</td><td><span style=white-space:pre-wrap>Private         </span></td><td>215646</td><td><span style=white-space:pre-wrap>HS-grad  </span></td><td> 9</td><td><span style=white-space:pre-wrap>Divorced          </span></td><td>Handlers-cleaners</td><td>Not-in-family</td><td>White</td><td><span style=white-space:pre-wrap>Male  </span></td><td><span style=white-space:pre-wrap>   0</span></td><td>0</td><td>40</td><td>United-States</td><td>&lt;=50K</td></tr>\n",
       "\t<tr><td>53</td><td><span style=white-space:pre-wrap>Private         </span></td><td>234721</td><td><span style=white-space:pre-wrap>11th     </span></td><td> 7</td><td>Married-civ-spouse</td><td>Handlers-cleaners</td><td><span style=white-space:pre-wrap>Husband      </span></td><td>Black</td><td><span style=white-space:pre-wrap>Male  </span></td><td><span style=white-space:pre-wrap>   0</span></td><td>0</td><td>40</td><td>United-States</td><td>&lt;=50K</td></tr>\n",
       "\t<tr><td>28</td><td><span style=white-space:pre-wrap>Private         </span></td><td>338409</td><td>Bachelors</td><td>13</td><td>Married-civ-spouse</td><td><span style=white-space:pre-wrap>Prof-specialty   </span></td><td><span style=white-space:pre-wrap>Wife         </span></td><td>Black</td><td>Female</td><td><span style=white-space:pre-wrap>   0</span></td><td>0</td><td>40</td><td><span style=white-space:pre-wrap>Cuba         </span></td><td>&lt;=50K</td></tr>\n",
       "\t<tr><td>37</td><td><span style=white-space:pre-wrap>Private         </span></td><td>284582</td><td><span style=white-space:pre-wrap>Masters  </span></td><td>14</td><td>Married-civ-spouse</td><td><span style=white-space:pre-wrap>Exec-managerial  </span></td><td><span style=white-space:pre-wrap>Wife         </span></td><td>White</td><td>Female</td><td><span style=white-space:pre-wrap>   0</span></td><td>0</td><td>40</td><td>United-States</td><td>&lt;=50K</td></tr>\n",
       "</tbody>\n",
       "</table>\n"
      ],
      "text/latex": [
       "A data.table: 6 × 15\n",
       "\\begin{tabular}{lllllllllllllll}\n",
       " V1 & V2 & V3 & V4 & V5 & V6 & V7 & V8 & V9 & V10 & V11 & V12 & V13 & V14 & V15\\\\\n",
       " <int> & <chr> & <int> & <chr> & <int> & <chr> & <chr> & <chr> & <chr> & <chr> & <int> & <int> & <int> & <chr> & <chr>\\\\\n",
       "\\hline\n",
       "\t 39 & State-gov        &  77516 & Bachelors & 13 & Never-married      & Adm-clerical      & Not-in-family & White & Male   & 2174 & 0 & 40 & United-States & <=50K\\\\\n",
       "\t 50 & Self-emp-not-inc &  83311 & Bachelors & 13 & Married-civ-spouse & Exec-managerial   & Husband       & White & Male   &    0 & 0 & 13 & United-States & <=50K\\\\\n",
       "\t 38 & Private          & 215646 & HS-grad   &  9 & Divorced           & Handlers-cleaners & Not-in-family & White & Male   &    0 & 0 & 40 & United-States & <=50K\\\\\n",
       "\t 53 & Private          & 234721 & 11th      &  7 & Married-civ-spouse & Handlers-cleaners & Husband       & Black & Male   &    0 & 0 & 40 & United-States & <=50K\\\\\n",
       "\t 28 & Private          & 338409 & Bachelors & 13 & Married-civ-spouse & Prof-specialty    & Wife          & Black & Female &    0 & 0 & 40 & Cuba          & <=50K\\\\\n",
       "\t 37 & Private          & 284582 & Masters   & 14 & Married-civ-spouse & Exec-managerial   & Wife          & White & Female &    0 & 0 & 40 & United-States & <=50K\\\\\n",
       "\\end{tabular}\n"
      ],
      "text/markdown": [
       "\n",
       "A data.table: 6 × 15\n",
       "\n",
       "| V1 &lt;int&gt; | V2 &lt;chr&gt; | V3 &lt;int&gt; | V4 &lt;chr&gt; | V5 &lt;int&gt; | V6 &lt;chr&gt; | V7 &lt;chr&gt; | V8 &lt;chr&gt; | V9 &lt;chr&gt; | V10 &lt;chr&gt; | V11 &lt;int&gt; | V12 &lt;int&gt; | V13 &lt;int&gt; | V14 &lt;chr&gt; | V15 &lt;chr&gt; |\n",
       "|---|---|---|---|---|---|---|---|---|---|---|---|---|---|---|\n",
       "| 39 | State-gov        |  77516 | Bachelors | 13 | Never-married      | Adm-clerical      | Not-in-family | White | Male   | 2174 | 0 | 40 | United-States | &lt;=50K |\n",
       "| 50 | Self-emp-not-inc |  83311 | Bachelors | 13 | Married-civ-spouse | Exec-managerial   | Husband       | White | Male   |    0 | 0 | 13 | United-States | &lt;=50K |\n",
       "| 38 | Private          | 215646 | HS-grad   |  9 | Divorced           | Handlers-cleaners | Not-in-family | White | Male   |    0 | 0 | 40 | United-States | &lt;=50K |\n",
       "| 53 | Private          | 234721 | 11th      |  7 | Married-civ-spouse | Handlers-cleaners | Husband       | Black | Male   |    0 | 0 | 40 | United-States | &lt;=50K |\n",
       "| 28 | Private          | 338409 | Bachelors | 13 | Married-civ-spouse | Prof-specialty    | Wife          | Black | Female |    0 | 0 | 40 | Cuba          | &lt;=50K |\n",
       "| 37 | Private          | 284582 | Masters   | 14 | Married-civ-spouse | Exec-managerial   | Wife          | White | Female |    0 | 0 | 40 | United-States | &lt;=50K |\n",
       "\n"
      ],
      "text/plain": [
       "  V1 V2               V3     V4        V5 V6                 V7               \n",
       "1 39 State-gov         77516 Bachelors 13 Never-married      Adm-clerical     \n",
       "2 50 Self-emp-not-inc  83311 Bachelors 13 Married-civ-spouse Exec-managerial  \n",
       "3 38 Private          215646 HS-grad    9 Divorced           Handlers-cleaners\n",
       "4 53 Private          234721 11th       7 Married-civ-spouse Handlers-cleaners\n",
       "5 28 Private          338409 Bachelors 13 Married-civ-spouse Prof-specialty   \n",
       "6 37 Private          284582 Masters   14 Married-civ-spouse Exec-managerial  \n",
       "  V8            V9    V10    V11  V12 V13 V14           V15  \n",
       "1 Not-in-family White Male   2174 0   40  United-States <=50K\n",
       "2 Husband       White Male      0 0   13  United-States <=50K\n",
       "3 Not-in-family White Male      0 0   40  United-States <=50K\n",
       "4 Husband       Black Male      0 0   40  United-States <=50K\n",
       "5 Wife          Black Female    0 0   40  Cuba          <=50K\n",
       "6 Wife          White Female    0 0   40  United-States <=50K"
      ]
     },
     "metadata": {},
     "output_type": "display_data"
    }
   ],
   "source": [
    "head(adult_data)"
   ]
  },
  {
   "cell_type": "code",
   "execution_count": 4,
   "id": "b679a8dd-ec78-46cc-b89b-bc5e5c7a0161",
   "metadata": {
    "tags": []
   },
   "outputs": [],
   "source": [
    "col_names <- c(\"age\", \"workclass\", \"fnlwgt\", \"education\", \"education_num\", \"marital_status\", \n",
    "               \"occupation\", \"relationship\", \"race\", \"sex\", \"capital_gain\", \"capital_loss\", \n",
    "               \"hours_per_week\", \"native_country\", \"income\")\n",
    "setnames(adult_data, col_names)"
   ]
  },
  {
   "cell_type": "markdown",
   "id": "34307526-ee2c-4738-99ff-7c55e3e4d93f",
   "metadata": {
    "tags": []
   },
   "source": [
    "## Quantifier {}"
   ]
  },
  {
   "cell_type": "markdown",
   "id": "86a5d9e1-dcc0-48be-96eb-f9098029e3cc",
   "metadata": {
    "tags": []
   },
   "source": [
    "It specifies that the preceding character (\"gov\") must appear exactly once."
   ]
  },
  {
   "cell_type": "code",
   "execution_count": 5,
   "id": "878431e0-d4ff-48d5-80a3-3490be014622",
   "metadata": {
    "tags": []
   },
   "outputs": [
    {
     "data": {
      "text/html": [
       "<table class=\"dataframe\">\n",
       "<caption>A data.table: 6 × 15</caption>\n",
       "<thead>\n",
       "\t<tr><th scope=col>age</th><th scope=col>workclass</th><th scope=col>fnlwgt</th><th scope=col>education</th><th scope=col>education_num</th><th scope=col>marital_status</th><th scope=col>occupation</th><th scope=col>relationship</th><th scope=col>race</th><th scope=col>sex</th><th scope=col>capital_gain</th><th scope=col>capital_loss</th><th scope=col>hours_per_week</th><th scope=col>native_country</th><th scope=col>income</th></tr>\n",
       "\t<tr><th scope=col>&lt;int&gt;</th><th scope=col>&lt;chr&gt;</th><th scope=col>&lt;int&gt;</th><th scope=col>&lt;chr&gt;</th><th scope=col>&lt;int&gt;</th><th scope=col>&lt;chr&gt;</th><th scope=col>&lt;chr&gt;</th><th scope=col>&lt;chr&gt;</th><th scope=col>&lt;chr&gt;</th><th scope=col>&lt;chr&gt;</th><th scope=col>&lt;int&gt;</th><th scope=col>&lt;int&gt;</th><th scope=col>&lt;int&gt;</th><th scope=col>&lt;chr&gt;</th><th scope=col>&lt;chr&gt;</th></tr>\n",
       "</thead>\n",
       "<tbody>\n",
       "\t<tr><td>39</td><td><span style=white-space:pre-wrap>State-gov  </span></td><td> 77516</td><td><span style=white-space:pre-wrap>Bachelors   </span></td><td>13</td><td><span style=white-space:pre-wrap>Never-married     </span></td><td><span style=white-space:pre-wrap>Adm-clerical   </span></td><td>Not-in-family</td><td><span style=white-space:pre-wrap>White             </span></td><td>Male</td><td>2174</td><td>0</td><td>40</td><td>United-States</td><td>&lt;=50K</td></tr>\n",
       "\t<tr><td>30</td><td><span style=white-space:pre-wrap>State-gov  </span></td><td>141297</td><td><span style=white-space:pre-wrap>Bachelors   </span></td><td>13</td><td>Married-civ-spouse</td><td>Prof-specialty </td><td><span style=white-space:pre-wrap>Husband      </span></td><td>Asian-Pac-Islander</td><td>Male</td><td><span style=white-space:pre-wrap>   0</span></td><td>0</td><td>40</td><td><span style=white-space:pre-wrap>India        </span></td><td>&gt;50K </td></tr>\n",
       "\t<tr><td>35</td><td>Federal-gov</td><td> 76845</td><td><span style=white-space:pre-wrap>9th         </span></td><td> 5</td><td>Married-civ-spouse</td><td>Farming-fishing</td><td><span style=white-space:pre-wrap>Husband      </span></td><td><span style=white-space:pre-wrap>Black             </span></td><td>Male</td><td><span style=white-space:pre-wrap>   0</span></td><td>0</td><td>40</td><td>United-States</td><td>&lt;=50K</td></tr>\n",
       "\t<tr><td>56</td><td><span style=white-space:pre-wrap>Local-gov  </span></td><td>216851</td><td><span style=white-space:pre-wrap>Bachelors   </span></td><td>13</td><td>Married-civ-spouse</td><td><span style=white-space:pre-wrap>Tech-support   </span></td><td><span style=white-space:pre-wrap>Husband      </span></td><td><span style=white-space:pre-wrap>White             </span></td><td>Male</td><td><span style=white-space:pre-wrap>   0</span></td><td>0</td><td>40</td><td>United-States</td><td>&gt;50K </td></tr>\n",
       "\t<tr><td>23</td><td><span style=white-space:pre-wrap>Local-gov  </span></td><td>190709</td><td><span style=white-space:pre-wrap>Assoc-acdm  </span></td><td>12</td><td><span style=white-space:pre-wrap>Never-married     </span></td><td>Protective-serv</td><td>Not-in-family</td><td><span style=white-space:pre-wrap>White             </span></td><td>Male</td><td><span style=white-space:pre-wrap>   0</span></td><td>0</td><td>52</td><td>United-States</td><td>&lt;=50K</td></tr>\n",
       "\t<tr><td>30</td><td>Federal-gov</td><td> 59951</td><td>Some-college</td><td>10</td><td>Married-civ-spouse</td><td><span style=white-space:pre-wrap>Adm-clerical   </span></td><td><span style=white-space:pre-wrap>Own-child    </span></td><td><span style=white-space:pre-wrap>White             </span></td><td>Male</td><td><span style=white-space:pre-wrap>   0</span></td><td>0</td><td>40</td><td>United-States</td><td>&lt;=50K</td></tr>\n",
       "</tbody>\n",
       "</table>\n"
      ],
      "text/latex": [
       "A data.table: 6 × 15\n",
       "\\begin{tabular}{lllllllllllllll}\n",
       " age & workclass & fnlwgt & education & education\\_num & marital\\_status & occupation & relationship & race & sex & capital\\_gain & capital\\_loss & hours\\_per\\_week & native\\_country & income\\\\\n",
       " <int> & <chr> & <int> & <chr> & <int> & <chr> & <chr> & <chr> & <chr> & <chr> & <int> & <int> & <int> & <chr> & <chr>\\\\\n",
       "\\hline\n",
       "\t 39 & State-gov   &  77516 & Bachelors    & 13 & Never-married      & Adm-clerical    & Not-in-family & White              & Male & 2174 & 0 & 40 & United-States & <=50K\\\\\n",
       "\t 30 & State-gov   & 141297 & Bachelors    & 13 & Married-civ-spouse & Prof-specialty  & Husband       & Asian-Pac-Islander & Male &    0 & 0 & 40 & India         & >50K \\\\\n",
       "\t 35 & Federal-gov &  76845 & 9th          &  5 & Married-civ-spouse & Farming-fishing & Husband       & Black              & Male &    0 & 0 & 40 & United-States & <=50K\\\\\n",
       "\t 56 & Local-gov   & 216851 & Bachelors    & 13 & Married-civ-spouse & Tech-support    & Husband       & White              & Male &    0 & 0 & 40 & United-States & >50K \\\\\n",
       "\t 23 & Local-gov   & 190709 & Assoc-acdm   & 12 & Never-married      & Protective-serv & Not-in-family & White              & Male &    0 & 0 & 52 & United-States & <=50K\\\\\n",
       "\t 30 & Federal-gov &  59951 & Some-college & 10 & Married-civ-spouse & Adm-clerical    & Own-child     & White              & Male &    0 & 0 & 40 & United-States & <=50K\\\\\n",
       "\\end{tabular}\n"
      ],
      "text/markdown": [
       "\n",
       "A data.table: 6 × 15\n",
       "\n",
       "| age &lt;int&gt; | workclass &lt;chr&gt; | fnlwgt &lt;int&gt; | education &lt;chr&gt; | education_num &lt;int&gt; | marital_status &lt;chr&gt; | occupation &lt;chr&gt; | relationship &lt;chr&gt; | race &lt;chr&gt; | sex &lt;chr&gt; | capital_gain &lt;int&gt; | capital_loss &lt;int&gt; | hours_per_week &lt;int&gt; | native_country &lt;chr&gt; | income &lt;chr&gt; |\n",
       "|---|---|---|---|---|---|---|---|---|---|---|---|---|---|---|\n",
       "| 39 | State-gov   |  77516 | Bachelors    | 13 | Never-married      | Adm-clerical    | Not-in-family | White              | Male | 2174 | 0 | 40 | United-States | &lt;=50K |\n",
       "| 30 | State-gov   | 141297 | Bachelors    | 13 | Married-civ-spouse | Prof-specialty  | Husband       | Asian-Pac-Islander | Male |    0 | 0 | 40 | India         | &gt;50K  |\n",
       "| 35 | Federal-gov |  76845 | 9th          |  5 | Married-civ-spouse | Farming-fishing | Husband       | Black              | Male |    0 | 0 | 40 | United-States | &lt;=50K |\n",
       "| 56 | Local-gov   | 216851 | Bachelors    | 13 | Married-civ-spouse | Tech-support    | Husband       | White              | Male |    0 | 0 | 40 | United-States | &gt;50K  |\n",
       "| 23 | Local-gov   | 190709 | Assoc-acdm   | 12 | Never-married      | Protective-serv | Not-in-family | White              | Male |    0 | 0 | 52 | United-States | &lt;=50K |\n",
       "| 30 | Federal-gov |  59951 | Some-college | 10 | Married-civ-spouse | Adm-clerical    | Own-child     | White              | Male |    0 | 0 | 40 | United-States | &lt;=50K |\n",
       "\n"
      ],
      "text/plain": [
       "  age workclass   fnlwgt education    education_num marital_status    \n",
       "1 39  State-gov    77516 Bachelors    13            Never-married     \n",
       "2 30  State-gov   141297 Bachelors    13            Married-civ-spouse\n",
       "3 35  Federal-gov  76845 9th           5            Married-civ-spouse\n",
       "4 56  Local-gov   216851 Bachelors    13            Married-civ-spouse\n",
       "5 23  Local-gov   190709 Assoc-acdm   12            Never-married     \n",
       "6 30  Federal-gov  59951 Some-college 10            Married-civ-spouse\n",
       "  occupation      relationship  race               sex  capital_gain\n",
       "1 Adm-clerical    Not-in-family White              Male 2174        \n",
       "2 Prof-specialty  Husband       Asian-Pac-Islander Male    0        \n",
       "3 Farming-fishing Husband       Black              Male    0        \n",
       "4 Tech-support    Husband       White              Male    0        \n",
       "5 Protective-serv Not-in-family White              Male    0        \n",
       "6 Adm-clerical    Own-child     White              Male    0        \n",
       "  capital_loss hours_per_week native_country income\n",
       "1 0            40             United-States  <=50K \n",
       "2 0            40             India          >50K  \n",
       "3 0            40             United-States  <=50K \n",
       "4 0            40             United-States  >50K  \n",
       "5 0            52             United-States  <=50K \n",
       "6 0            40             United-States  <=50K "
      ]
     },
     "metadata": {},
     "output_type": "display_data"
    }
   ],
   "source": [
    "gov_jobs <- adult_data %>%\n",
    "  filter(str_detect(workclass, \"gov{1}\"))\n",
    "head(gov_jobs)"
   ]
  },
  {
   "cell_type": "markdown",
   "id": "8e39bfa6-9e29-4780-939c-2f0d4e43d451",
   "metadata": {
    "tags": []
   },
   "source": [
    "## Quantifier +"
   ]
  },
  {
   "cell_type": "markdown",
   "id": "4427061f-e8db-4f12-8044-f694f630df82",
   "metadata": {
    "tags": []
   },
   "source": [
    "It specifies that the preceding character (\"gov\") must appear at least once."
   ]
  },
  {
   "cell_type": "code",
   "execution_count": 6,
   "id": "d858db69-7e9d-4534-9394-27e036033487",
   "metadata": {
    "tags": []
   },
   "outputs": [
    {
     "data": {
      "text/html": [
       "<table class=\"dataframe\">\n",
       "<caption>A data.table: 6 × 15</caption>\n",
       "<thead>\n",
       "\t<tr><th scope=col>age</th><th scope=col>workclass</th><th scope=col>fnlwgt</th><th scope=col>education</th><th scope=col>education_num</th><th scope=col>marital_status</th><th scope=col>occupation</th><th scope=col>relationship</th><th scope=col>race</th><th scope=col>sex</th><th scope=col>capital_gain</th><th scope=col>capital_loss</th><th scope=col>hours_per_week</th><th scope=col>native_country</th><th scope=col>income</th></tr>\n",
       "\t<tr><th scope=col>&lt;int&gt;</th><th scope=col>&lt;chr&gt;</th><th scope=col>&lt;int&gt;</th><th scope=col>&lt;chr&gt;</th><th scope=col>&lt;int&gt;</th><th scope=col>&lt;chr&gt;</th><th scope=col>&lt;chr&gt;</th><th scope=col>&lt;chr&gt;</th><th scope=col>&lt;chr&gt;</th><th scope=col>&lt;chr&gt;</th><th scope=col>&lt;int&gt;</th><th scope=col>&lt;int&gt;</th><th scope=col>&lt;int&gt;</th><th scope=col>&lt;chr&gt;</th><th scope=col>&lt;chr&gt;</th></tr>\n",
       "</thead>\n",
       "<tbody>\n",
       "\t<tr><td>39</td><td><span style=white-space:pre-wrap>State-gov  </span></td><td> 77516</td><td><span style=white-space:pre-wrap>Bachelors   </span></td><td>13</td><td><span style=white-space:pre-wrap>Never-married     </span></td><td><span style=white-space:pre-wrap>Adm-clerical   </span></td><td>Not-in-family</td><td><span style=white-space:pre-wrap>White             </span></td><td>Male</td><td>2174</td><td>0</td><td>40</td><td>United-States</td><td>&lt;=50K</td></tr>\n",
       "\t<tr><td>30</td><td><span style=white-space:pre-wrap>State-gov  </span></td><td>141297</td><td><span style=white-space:pre-wrap>Bachelors   </span></td><td>13</td><td>Married-civ-spouse</td><td>Prof-specialty </td><td><span style=white-space:pre-wrap>Husband      </span></td><td>Asian-Pac-Islander</td><td>Male</td><td><span style=white-space:pre-wrap>   0</span></td><td>0</td><td>40</td><td><span style=white-space:pre-wrap>India        </span></td><td>&gt;50K </td></tr>\n",
       "\t<tr><td>35</td><td>Federal-gov</td><td> 76845</td><td><span style=white-space:pre-wrap>9th         </span></td><td> 5</td><td>Married-civ-spouse</td><td>Farming-fishing</td><td><span style=white-space:pre-wrap>Husband      </span></td><td><span style=white-space:pre-wrap>Black             </span></td><td>Male</td><td><span style=white-space:pre-wrap>   0</span></td><td>0</td><td>40</td><td>United-States</td><td>&lt;=50K</td></tr>\n",
       "\t<tr><td>56</td><td><span style=white-space:pre-wrap>Local-gov  </span></td><td>216851</td><td><span style=white-space:pre-wrap>Bachelors   </span></td><td>13</td><td>Married-civ-spouse</td><td><span style=white-space:pre-wrap>Tech-support   </span></td><td><span style=white-space:pre-wrap>Husband      </span></td><td><span style=white-space:pre-wrap>White             </span></td><td>Male</td><td><span style=white-space:pre-wrap>   0</span></td><td>0</td><td>40</td><td>United-States</td><td>&gt;50K </td></tr>\n",
       "\t<tr><td>23</td><td><span style=white-space:pre-wrap>Local-gov  </span></td><td>190709</td><td><span style=white-space:pre-wrap>Assoc-acdm  </span></td><td>12</td><td><span style=white-space:pre-wrap>Never-married     </span></td><td>Protective-serv</td><td>Not-in-family</td><td><span style=white-space:pre-wrap>White             </span></td><td>Male</td><td><span style=white-space:pre-wrap>   0</span></td><td>0</td><td>52</td><td>United-States</td><td>&lt;=50K</td></tr>\n",
       "\t<tr><td>30</td><td>Federal-gov</td><td> 59951</td><td>Some-college</td><td>10</td><td>Married-civ-spouse</td><td><span style=white-space:pre-wrap>Adm-clerical   </span></td><td><span style=white-space:pre-wrap>Own-child    </span></td><td><span style=white-space:pre-wrap>White             </span></td><td>Male</td><td><span style=white-space:pre-wrap>   0</span></td><td>0</td><td>40</td><td>United-States</td><td>&lt;=50K</td></tr>\n",
       "</tbody>\n",
       "</table>\n"
      ],
      "text/latex": [
       "A data.table: 6 × 15\n",
       "\\begin{tabular}{lllllllllllllll}\n",
       " age & workclass & fnlwgt & education & education\\_num & marital\\_status & occupation & relationship & race & sex & capital\\_gain & capital\\_loss & hours\\_per\\_week & native\\_country & income\\\\\n",
       " <int> & <chr> & <int> & <chr> & <int> & <chr> & <chr> & <chr> & <chr> & <chr> & <int> & <int> & <int> & <chr> & <chr>\\\\\n",
       "\\hline\n",
       "\t 39 & State-gov   &  77516 & Bachelors    & 13 & Never-married      & Adm-clerical    & Not-in-family & White              & Male & 2174 & 0 & 40 & United-States & <=50K\\\\\n",
       "\t 30 & State-gov   & 141297 & Bachelors    & 13 & Married-civ-spouse & Prof-specialty  & Husband       & Asian-Pac-Islander & Male &    0 & 0 & 40 & India         & >50K \\\\\n",
       "\t 35 & Federal-gov &  76845 & 9th          &  5 & Married-civ-spouse & Farming-fishing & Husband       & Black              & Male &    0 & 0 & 40 & United-States & <=50K\\\\\n",
       "\t 56 & Local-gov   & 216851 & Bachelors    & 13 & Married-civ-spouse & Tech-support    & Husband       & White              & Male &    0 & 0 & 40 & United-States & >50K \\\\\n",
       "\t 23 & Local-gov   & 190709 & Assoc-acdm   & 12 & Never-married      & Protective-serv & Not-in-family & White              & Male &    0 & 0 & 52 & United-States & <=50K\\\\\n",
       "\t 30 & Federal-gov &  59951 & Some-college & 10 & Married-civ-spouse & Adm-clerical    & Own-child     & White              & Male &    0 & 0 & 40 & United-States & <=50K\\\\\n",
       "\\end{tabular}\n"
      ],
      "text/markdown": [
       "\n",
       "A data.table: 6 × 15\n",
       "\n",
       "| age &lt;int&gt; | workclass &lt;chr&gt; | fnlwgt &lt;int&gt; | education &lt;chr&gt; | education_num &lt;int&gt; | marital_status &lt;chr&gt; | occupation &lt;chr&gt; | relationship &lt;chr&gt; | race &lt;chr&gt; | sex &lt;chr&gt; | capital_gain &lt;int&gt; | capital_loss &lt;int&gt; | hours_per_week &lt;int&gt; | native_country &lt;chr&gt; | income &lt;chr&gt; |\n",
       "|---|---|---|---|---|---|---|---|---|---|---|---|---|---|---|\n",
       "| 39 | State-gov   |  77516 | Bachelors    | 13 | Never-married      | Adm-clerical    | Not-in-family | White              | Male | 2174 | 0 | 40 | United-States | &lt;=50K |\n",
       "| 30 | State-gov   | 141297 | Bachelors    | 13 | Married-civ-spouse | Prof-specialty  | Husband       | Asian-Pac-Islander | Male |    0 | 0 | 40 | India         | &gt;50K  |\n",
       "| 35 | Federal-gov |  76845 | 9th          |  5 | Married-civ-spouse | Farming-fishing | Husband       | Black              | Male |    0 | 0 | 40 | United-States | &lt;=50K |\n",
       "| 56 | Local-gov   | 216851 | Bachelors    | 13 | Married-civ-spouse | Tech-support    | Husband       | White              | Male |    0 | 0 | 40 | United-States | &gt;50K  |\n",
       "| 23 | Local-gov   | 190709 | Assoc-acdm   | 12 | Never-married      | Protective-serv | Not-in-family | White              | Male |    0 | 0 | 52 | United-States | &lt;=50K |\n",
       "| 30 | Federal-gov |  59951 | Some-college | 10 | Married-civ-spouse | Adm-clerical    | Own-child     | White              | Male |    0 | 0 | 40 | United-States | &lt;=50K |\n",
       "\n"
      ],
      "text/plain": [
       "  age workclass   fnlwgt education    education_num marital_status    \n",
       "1 39  State-gov    77516 Bachelors    13            Never-married     \n",
       "2 30  State-gov   141297 Bachelors    13            Married-civ-spouse\n",
       "3 35  Federal-gov  76845 9th           5            Married-civ-spouse\n",
       "4 56  Local-gov   216851 Bachelors    13            Married-civ-spouse\n",
       "5 23  Local-gov   190709 Assoc-acdm   12            Never-married     \n",
       "6 30  Federal-gov  59951 Some-college 10            Married-civ-spouse\n",
       "  occupation      relationship  race               sex  capital_gain\n",
       "1 Adm-clerical    Not-in-family White              Male 2174        \n",
       "2 Prof-specialty  Husband       Asian-Pac-Islander Male    0        \n",
       "3 Farming-fishing Husband       Black              Male    0        \n",
       "4 Tech-support    Husband       White              Male    0        \n",
       "5 Protective-serv Not-in-family White              Male    0        \n",
       "6 Adm-clerical    Own-child     White              Male    0        \n",
       "  capital_loss hours_per_week native_country income\n",
       "1 0            40             United-States  <=50K \n",
       "2 0            40             India          >50K  \n",
       "3 0            40             United-States  <=50K \n",
       "4 0            40             United-States  >50K  \n",
       "5 0            52             United-States  <=50K \n",
       "6 0            40             United-States  <=50K "
      ]
     },
     "metadata": {},
     "output_type": "display_data"
    }
   ],
   "source": [
    "gov_jobs1 <- adult_data %>%\n",
    "  filter(str_detect(workclass, \"gov+\"))\n",
    "head(gov_jobs1)"
   ]
  },
  {
   "cell_type": "markdown",
   "id": "2e32eb84-588c-4469-a920-71ad16d2ea2a",
   "metadata": {
    "tags": []
   },
   "source": [
    "## Quantifier *"
   ]
  },
  {
   "cell_type": "markdown",
   "id": "6fc8ae13-85df-42fa-a100-390508e742a6",
   "metadata": {
    "tags": []
   },
   "source": [
    "It means \"zero or more occurrences\" of the preceding character (\"gov\")."
   ]
  },
  {
   "cell_type": "code",
   "execution_count": 7,
   "id": "d7e50cc0-b3c7-4298-a8ab-bba61d314603",
   "metadata": {
    "tags": []
   },
   "outputs": [
    {
     "data": {
      "text/html": [
       "<table class=\"dataframe\">\n",
       "<caption>A data.table: 6 × 15</caption>\n",
       "<thead>\n",
       "\t<tr><th scope=col>age</th><th scope=col>workclass</th><th scope=col>fnlwgt</th><th scope=col>education</th><th scope=col>education_num</th><th scope=col>marital_status</th><th scope=col>occupation</th><th scope=col>relationship</th><th scope=col>race</th><th scope=col>sex</th><th scope=col>capital_gain</th><th scope=col>capital_loss</th><th scope=col>hours_per_week</th><th scope=col>native_country</th><th scope=col>income</th></tr>\n",
       "\t<tr><th scope=col>&lt;int&gt;</th><th scope=col>&lt;chr&gt;</th><th scope=col>&lt;int&gt;</th><th scope=col>&lt;chr&gt;</th><th scope=col>&lt;int&gt;</th><th scope=col>&lt;chr&gt;</th><th scope=col>&lt;chr&gt;</th><th scope=col>&lt;chr&gt;</th><th scope=col>&lt;chr&gt;</th><th scope=col>&lt;chr&gt;</th><th scope=col>&lt;int&gt;</th><th scope=col>&lt;int&gt;</th><th scope=col>&lt;int&gt;</th><th scope=col>&lt;chr&gt;</th><th scope=col>&lt;chr&gt;</th></tr>\n",
       "</thead>\n",
       "<tbody>\n",
       "\t<tr><td>39</td><td><span style=white-space:pre-wrap>State-gov  </span></td><td> 77516</td><td><span style=white-space:pre-wrap>Bachelors   </span></td><td>13</td><td><span style=white-space:pre-wrap>Never-married     </span></td><td><span style=white-space:pre-wrap>Adm-clerical   </span></td><td>Not-in-family</td><td><span style=white-space:pre-wrap>White             </span></td><td>Male</td><td>2174</td><td>0</td><td>40</td><td>United-States</td><td>&lt;=50K</td></tr>\n",
       "\t<tr><td>30</td><td><span style=white-space:pre-wrap>State-gov  </span></td><td>141297</td><td><span style=white-space:pre-wrap>Bachelors   </span></td><td>13</td><td>Married-civ-spouse</td><td>Prof-specialty </td><td><span style=white-space:pre-wrap>Husband      </span></td><td>Asian-Pac-Islander</td><td>Male</td><td><span style=white-space:pre-wrap>   0</span></td><td>0</td><td>40</td><td><span style=white-space:pre-wrap>India        </span></td><td>&gt;50K </td></tr>\n",
       "\t<tr><td>35</td><td>Federal-gov</td><td> 76845</td><td><span style=white-space:pre-wrap>9th         </span></td><td> 5</td><td>Married-civ-spouse</td><td>Farming-fishing</td><td><span style=white-space:pre-wrap>Husband      </span></td><td><span style=white-space:pre-wrap>Black             </span></td><td>Male</td><td><span style=white-space:pre-wrap>   0</span></td><td>0</td><td>40</td><td>United-States</td><td>&lt;=50K</td></tr>\n",
       "\t<tr><td>56</td><td><span style=white-space:pre-wrap>Local-gov  </span></td><td>216851</td><td><span style=white-space:pre-wrap>Bachelors   </span></td><td>13</td><td>Married-civ-spouse</td><td><span style=white-space:pre-wrap>Tech-support   </span></td><td><span style=white-space:pre-wrap>Husband      </span></td><td><span style=white-space:pre-wrap>White             </span></td><td>Male</td><td><span style=white-space:pre-wrap>   0</span></td><td>0</td><td>40</td><td>United-States</td><td>&gt;50K </td></tr>\n",
       "\t<tr><td>23</td><td><span style=white-space:pre-wrap>Local-gov  </span></td><td>190709</td><td><span style=white-space:pre-wrap>Assoc-acdm  </span></td><td>12</td><td><span style=white-space:pre-wrap>Never-married     </span></td><td>Protective-serv</td><td>Not-in-family</td><td><span style=white-space:pre-wrap>White             </span></td><td>Male</td><td><span style=white-space:pre-wrap>   0</span></td><td>0</td><td>52</td><td>United-States</td><td>&lt;=50K</td></tr>\n",
       "\t<tr><td>30</td><td>Federal-gov</td><td> 59951</td><td>Some-college</td><td>10</td><td>Married-civ-spouse</td><td><span style=white-space:pre-wrap>Adm-clerical   </span></td><td><span style=white-space:pre-wrap>Own-child    </span></td><td><span style=white-space:pre-wrap>White             </span></td><td>Male</td><td><span style=white-space:pre-wrap>   0</span></td><td>0</td><td>40</td><td>United-States</td><td>&lt;=50K</td></tr>\n",
       "</tbody>\n",
       "</table>\n"
      ],
      "text/latex": [
       "A data.table: 6 × 15\n",
       "\\begin{tabular}{lllllllllllllll}\n",
       " age & workclass & fnlwgt & education & education\\_num & marital\\_status & occupation & relationship & race & sex & capital\\_gain & capital\\_loss & hours\\_per\\_week & native\\_country & income\\\\\n",
       " <int> & <chr> & <int> & <chr> & <int> & <chr> & <chr> & <chr> & <chr> & <chr> & <int> & <int> & <int> & <chr> & <chr>\\\\\n",
       "\\hline\n",
       "\t 39 & State-gov   &  77516 & Bachelors    & 13 & Never-married      & Adm-clerical    & Not-in-family & White              & Male & 2174 & 0 & 40 & United-States & <=50K\\\\\n",
       "\t 30 & State-gov   & 141297 & Bachelors    & 13 & Married-civ-spouse & Prof-specialty  & Husband       & Asian-Pac-Islander & Male &    0 & 0 & 40 & India         & >50K \\\\\n",
       "\t 35 & Federal-gov &  76845 & 9th          &  5 & Married-civ-spouse & Farming-fishing & Husband       & Black              & Male &    0 & 0 & 40 & United-States & <=50K\\\\\n",
       "\t 56 & Local-gov   & 216851 & Bachelors    & 13 & Married-civ-spouse & Tech-support    & Husband       & White              & Male &    0 & 0 & 40 & United-States & >50K \\\\\n",
       "\t 23 & Local-gov   & 190709 & Assoc-acdm   & 12 & Never-married      & Protective-serv & Not-in-family & White              & Male &    0 & 0 & 52 & United-States & <=50K\\\\\n",
       "\t 30 & Federal-gov &  59951 & Some-college & 10 & Married-civ-spouse & Adm-clerical    & Own-child     & White              & Male &    0 & 0 & 40 & United-States & <=50K\\\\\n",
       "\\end{tabular}\n"
      ],
      "text/markdown": [
       "\n",
       "A data.table: 6 × 15\n",
       "\n",
       "| age &lt;int&gt; | workclass &lt;chr&gt; | fnlwgt &lt;int&gt; | education &lt;chr&gt; | education_num &lt;int&gt; | marital_status &lt;chr&gt; | occupation &lt;chr&gt; | relationship &lt;chr&gt; | race &lt;chr&gt; | sex &lt;chr&gt; | capital_gain &lt;int&gt; | capital_loss &lt;int&gt; | hours_per_week &lt;int&gt; | native_country &lt;chr&gt; | income &lt;chr&gt; |\n",
       "|---|---|---|---|---|---|---|---|---|---|---|---|---|---|---|\n",
       "| 39 | State-gov   |  77516 | Bachelors    | 13 | Never-married      | Adm-clerical    | Not-in-family | White              | Male | 2174 | 0 | 40 | United-States | &lt;=50K |\n",
       "| 30 | State-gov   | 141297 | Bachelors    | 13 | Married-civ-spouse | Prof-specialty  | Husband       | Asian-Pac-Islander | Male |    0 | 0 | 40 | India         | &gt;50K  |\n",
       "| 35 | Federal-gov |  76845 | 9th          |  5 | Married-civ-spouse | Farming-fishing | Husband       | Black              | Male |    0 | 0 | 40 | United-States | &lt;=50K |\n",
       "| 56 | Local-gov   | 216851 | Bachelors    | 13 | Married-civ-spouse | Tech-support    | Husband       | White              | Male |    0 | 0 | 40 | United-States | &gt;50K  |\n",
       "| 23 | Local-gov   | 190709 | Assoc-acdm   | 12 | Never-married      | Protective-serv | Not-in-family | White              | Male |    0 | 0 | 52 | United-States | &lt;=50K |\n",
       "| 30 | Federal-gov |  59951 | Some-college | 10 | Married-civ-spouse | Adm-clerical    | Own-child     | White              | Male |    0 | 0 | 40 | United-States | &lt;=50K |\n",
       "\n"
      ],
      "text/plain": [
       "  age workclass   fnlwgt education    education_num marital_status    \n",
       "1 39  State-gov    77516 Bachelors    13            Never-married     \n",
       "2 30  State-gov   141297 Bachelors    13            Married-civ-spouse\n",
       "3 35  Federal-gov  76845 9th           5            Married-civ-spouse\n",
       "4 56  Local-gov   216851 Bachelors    13            Married-civ-spouse\n",
       "5 23  Local-gov   190709 Assoc-acdm   12            Never-married     \n",
       "6 30  Federal-gov  59951 Some-college 10            Married-civ-spouse\n",
       "  occupation      relationship  race               sex  capital_gain\n",
       "1 Adm-clerical    Not-in-family White              Male 2174        \n",
       "2 Prof-specialty  Husband       Asian-Pac-Islander Male    0        \n",
       "3 Farming-fishing Husband       Black              Male    0        \n",
       "4 Tech-support    Husband       White              Male    0        \n",
       "5 Protective-serv Not-in-family White              Male    0        \n",
       "6 Adm-clerical    Own-child     White              Male    0        \n",
       "  capital_loss hours_per_week native_country income\n",
       "1 0            40             United-States  <=50K \n",
       "2 0            40             India          >50K  \n",
       "3 0            40             United-States  <=50K \n",
       "4 0            40             United-States  >50K  \n",
       "5 0            52             United-States  <=50K \n",
       "6 0            40             United-States  <=50K "
      ]
     },
     "metadata": {},
     "output_type": "display_data"
    }
   ],
   "source": [
    "gov_jobs2 <- adult_data %>%\n",
    "  filter(str_detect(workclass, \"gov*\"))\n",
    "head(gov_jobs2)"
   ]
  },
  {
   "cell_type": "markdown",
   "id": "976819e1-2d28-4a39-9c70-0cde9a6ebc5a",
   "metadata": {
    "tags": []
   },
   "source": [
    "## Quantifier ?"
   ]
  },
  {
   "cell_type": "markdown",
   "id": "4f076d39-2a3b-423c-a786-822fd4bad4ce",
   "metadata": {
    "tags": []
   },
   "source": [
    "It means \"zero or one occurrence\" of the preceding character (\"gov\")."
   ]
  },
  {
   "cell_type": "code",
   "execution_count": 8,
   "id": "3cbde947-641c-41fb-91d0-dd44a239b141",
   "metadata": {
    "tags": []
   },
   "outputs": [
    {
     "data": {
      "text/html": [
       "<table class=\"dataframe\">\n",
       "<caption>A data.table: 6 × 15</caption>\n",
       "<thead>\n",
       "\t<tr><th scope=col>age</th><th scope=col>workclass</th><th scope=col>fnlwgt</th><th scope=col>education</th><th scope=col>education_num</th><th scope=col>marital_status</th><th scope=col>occupation</th><th scope=col>relationship</th><th scope=col>race</th><th scope=col>sex</th><th scope=col>capital_gain</th><th scope=col>capital_loss</th><th scope=col>hours_per_week</th><th scope=col>native_country</th><th scope=col>income</th></tr>\n",
       "\t<tr><th scope=col>&lt;int&gt;</th><th scope=col>&lt;chr&gt;</th><th scope=col>&lt;int&gt;</th><th scope=col>&lt;chr&gt;</th><th scope=col>&lt;int&gt;</th><th scope=col>&lt;chr&gt;</th><th scope=col>&lt;chr&gt;</th><th scope=col>&lt;chr&gt;</th><th scope=col>&lt;chr&gt;</th><th scope=col>&lt;chr&gt;</th><th scope=col>&lt;int&gt;</th><th scope=col>&lt;int&gt;</th><th scope=col>&lt;int&gt;</th><th scope=col>&lt;chr&gt;</th><th scope=col>&lt;chr&gt;</th></tr>\n",
       "</thead>\n",
       "<tbody>\n",
       "\t<tr><td>39</td><td><span style=white-space:pre-wrap>State-gov  </span></td><td> 77516</td><td><span style=white-space:pre-wrap>Bachelors   </span></td><td>13</td><td><span style=white-space:pre-wrap>Never-married     </span></td><td><span style=white-space:pre-wrap>Adm-clerical   </span></td><td>Not-in-family</td><td><span style=white-space:pre-wrap>White             </span></td><td>Male</td><td>2174</td><td>0</td><td>40</td><td>United-States</td><td>&lt;=50K</td></tr>\n",
       "\t<tr><td>30</td><td><span style=white-space:pre-wrap>State-gov  </span></td><td>141297</td><td><span style=white-space:pre-wrap>Bachelors   </span></td><td>13</td><td>Married-civ-spouse</td><td>Prof-specialty </td><td><span style=white-space:pre-wrap>Husband      </span></td><td>Asian-Pac-Islander</td><td>Male</td><td><span style=white-space:pre-wrap>   0</span></td><td>0</td><td>40</td><td><span style=white-space:pre-wrap>India        </span></td><td>&gt;50K </td></tr>\n",
       "\t<tr><td>35</td><td>Federal-gov</td><td> 76845</td><td><span style=white-space:pre-wrap>9th         </span></td><td> 5</td><td>Married-civ-spouse</td><td>Farming-fishing</td><td><span style=white-space:pre-wrap>Husband      </span></td><td><span style=white-space:pre-wrap>Black             </span></td><td>Male</td><td><span style=white-space:pre-wrap>   0</span></td><td>0</td><td>40</td><td>United-States</td><td>&lt;=50K</td></tr>\n",
       "\t<tr><td>56</td><td><span style=white-space:pre-wrap>Local-gov  </span></td><td>216851</td><td><span style=white-space:pre-wrap>Bachelors   </span></td><td>13</td><td>Married-civ-spouse</td><td><span style=white-space:pre-wrap>Tech-support   </span></td><td><span style=white-space:pre-wrap>Husband      </span></td><td><span style=white-space:pre-wrap>White             </span></td><td>Male</td><td><span style=white-space:pre-wrap>   0</span></td><td>0</td><td>40</td><td>United-States</td><td>&gt;50K </td></tr>\n",
       "\t<tr><td>23</td><td><span style=white-space:pre-wrap>Local-gov  </span></td><td>190709</td><td><span style=white-space:pre-wrap>Assoc-acdm  </span></td><td>12</td><td><span style=white-space:pre-wrap>Never-married     </span></td><td>Protective-serv</td><td>Not-in-family</td><td><span style=white-space:pre-wrap>White             </span></td><td>Male</td><td><span style=white-space:pre-wrap>   0</span></td><td>0</td><td>52</td><td>United-States</td><td>&lt;=50K</td></tr>\n",
       "\t<tr><td>30</td><td>Federal-gov</td><td> 59951</td><td>Some-college</td><td>10</td><td>Married-civ-spouse</td><td><span style=white-space:pre-wrap>Adm-clerical   </span></td><td><span style=white-space:pre-wrap>Own-child    </span></td><td><span style=white-space:pre-wrap>White             </span></td><td>Male</td><td><span style=white-space:pre-wrap>   0</span></td><td>0</td><td>40</td><td>United-States</td><td>&lt;=50K</td></tr>\n",
       "</tbody>\n",
       "</table>\n"
      ],
      "text/latex": [
       "A data.table: 6 × 15\n",
       "\\begin{tabular}{lllllllllllllll}\n",
       " age & workclass & fnlwgt & education & education\\_num & marital\\_status & occupation & relationship & race & sex & capital\\_gain & capital\\_loss & hours\\_per\\_week & native\\_country & income\\\\\n",
       " <int> & <chr> & <int> & <chr> & <int> & <chr> & <chr> & <chr> & <chr> & <chr> & <int> & <int> & <int> & <chr> & <chr>\\\\\n",
       "\\hline\n",
       "\t 39 & State-gov   &  77516 & Bachelors    & 13 & Never-married      & Adm-clerical    & Not-in-family & White              & Male & 2174 & 0 & 40 & United-States & <=50K\\\\\n",
       "\t 30 & State-gov   & 141297 & Bachelors    & 13 & Married-civ-spouse & Prof-specialty  & Husband       & Asian-Pac-Islander & Male &    0 & 0 & 40 & India         & >50K \\\\\n",
       "\t 35 & Federal-gov &  76845 & 9th          &  5 & Married-civ-spouse & Farming-fishing & Husband       & Black              & Male &    0 & 0 & 40 & United-States & <=50K\\\\\n",
       "\t 56 & Local-gov   & 216851 & Bachelors    & 13 & Married-civ-spouse & Tech-support    & Husband       & White              & Male &    0 & 0 & 40 & United-States & >50K \\\\\n",
       "\t 23 & Local-gov   & 190709 & Assoc-acdm   & 12 & Never-married      & Protective-serv & Not-in-family & White              & Male &    0 & 0 & 52 & United-States & <=50K\\\\\n",
       "\t 30 & Federal-gov &  59951 & Some-college & 10 & Married-civ-spouse & Adm-clerical    & Own-child     & White              & Male &    0 & 0 & 40 & United-States & <=50K\\\\\n",
       "\\end{tabular}\n"
      ],
      "text/markdown": [
       "\n",
       "A data.table: 6 × 15\n",
       "\n",
       "| age &lt;int&gt; | workclass &lt;chr&gt; | fnlwgt &lt;int&gt; | education &lt;chr&gt; | education_num &lt;int&gt; | marital_status &lt;chr&gt; | occupation &lt;chr&gt; | relationship &lt;chr&gt; | race &lt;chr&gt; | sex &lt;chr&gt; | capital_gain &lt;int&gt; | capital_loss &lt;int&gt; | hours_per_week &lt;int&gt; | native_country &lt;chr&gt; | income &lt;chr&gt; |\n",
       "|---|---|---|---|---|---|---|---|---|---|---|---|---|---|---|\n",
       "| 39 | State-gov   |  77516 | Bachelors    | 13 | Never-married      | Adm-clerical    | Not-in-family | White              | Male | 2174 | 0 | 40 | United-States | &lt;=50K |\n",
       "| 30 | State-gov   | 141297 | Bachelors    | 13 | Married-civ-spouse | Prof-specialty  | Husband       | Asian-Pac-Islander | Male |    0 | 0 | 40 | India         | &gt;50K  |\n",
       "| 35 | Federal-gov |  76845 | 9th          |  5 | Married-civ-spouse | Farming-fishing | Husband       | Black              | Male |    0 | 0 | 40 | United-States | &lt;=50K |\n",
       "| 56 | Local-gov   | 216851 | Bachelors    | 13 | Married-civ-spouse | Tech-support    | Husband       | White              | Male |    0 | 0 | 40 | United-States | &gt;50K  |\n",
       "| 23 | Local-gov   | 190709 | Assoc-acdm   | 12 | Never-married      | Protective-serv | Not-in-family | White              | Male |    0 | 0 | 52 | United-States | &lt;=50K |\n",
       "| 30 | Federal-gov |  59951 | Some-college | 10 | Married-civ-spouse | Adm-clerical    | Own-child     | White              | Male |    0 | 0 | 40 | United-States | &lt;=50K |\n",
       "\n"
      ],
      "text/plain": [
       "  age workclass   fnlwgt education    education_num marital_status    \n",
       "1 39  State-gov    77516 Bachelors    13            Never-married     \n",
       "2 30  State-gov   141297 Bachelors    13            Married-civ-spouse\n",
       "3 35  Federal-gov  76845 9th           5            Married-civ-spouse\n",
       "4 56  Local-gov   216851 Bachelors    13            Married-civ-spouse\n",
       "5 23  Local-gov   190709 Assoc-acdm   12            Never-married     \n",
       "6 30  Federal-gov  59951 Some-college 10            Married-civ-spouse\n",
       "  occupation      relationship  race               sex  capital_gain\n",
       "1 Adm-clerical    Not-in-family White              Male 2174        \n",
       "2 Prof-specialty  Husband       Asian-Pac-Islander Male    0        \n",
       "3 Farming-fishing Husband       Black              Male    0        \n",
       "4 Tech-support    Husband       White              Male    0        \n",
       "5 Protective-serv Not-in-family White              Male    0        \n",
       "6 Adm-clerical    Own-child     White              Male    0        \n",
       "  capital_loss hours_per_week native_country income\n",
       "1 0            40             United-States  <=50K \n",
       "2 0            40             India          >50K  \n",
       "3 0            40             United-States  <=50K \n",
       "4 0            40             United-States  >50K  \n",
       "5 0            52             United-States  <=50K \n",
       "6 0            40             United-States  <=50K "
      ]
     },
     "metadata": {},
     "output_type": "display_data"
    }
   ],
   "source": [
    "gov_jobs2 <- adult_data %>%\n",
    "  filter(str_detect(workclass, \"gov?\"))\n",
    "head(gov_jobs2)"
   ]
  },
  {
   "cell_type": "markdown",
   "id": "f8f16d21-2386-43e4-a67d-f2e07c48dc53",
   "metadata": {
    "tags": []
   },
   "source": [
    "## Qualifier ."
   ]
  },
  {
   "cell_type": "markdown",
   "id": "c10fc767-763e-4b9e-bc13-f2576d471256",
   "metadata": {
    "tags": []
   },
   "source": [
    "It replaces any single character between \"mar\" and \"ied\" with \"ried\" in marital_status."
   ]
  },
  {
   "cell_type": "code",
   "execution_count": 9,
   "id": "44bab3d0-d99a-4af2-a648-becfb6c45f94",
   "metadata": {
    "tags": []
   },
   "outputs": [
    {
     "data": {
      "text/html": [
       "<table class=\"dataframe\">\n",
       "<caption>A data.table: 6 × 15</caption>\n",
       "<thead>\n",
       "\t<tr><th scope=col>age</th><th scope=col>workclass</th><th scope=col>fnlwgt</th><th scope=col>education</th><th scope=col>education_num</th><th scope=col>marital_status</th><th scope=col>occupation</th><th scope=col>relationship</th><th scope=col>race</th><th scope=col>sex</th><th scope=col>capital_gain</th><th scope=col>capital_loss</th><th scope=col>hours_per_week</th><th scope=col>native_country</th><th scope=col>income</th></tr>\n",
       "\t<tr><th scope=col>&lt;int&gt;</th><th scope=col>&lt;chr&gt;</th><th scope=col>&lt;int&gt;</th><th scope=col>&lt;chr&gt;</th><th scope=col>&lt;int&gt;</th><th scope=col>&lt;chr&gt;</th><th scope=col>&lt;chr&gt;</th><th scope=col>&lt;chr&gt;</th><th scope=col>&lt;chr&gt;</th><th scope=col>&lt;chr&gt;</th><th scope=col>&lt;int&gt;</th><th scope=col>&lt;int&gt;</th><th scope=col>&lt;int&gt;</th><th scope=col>&lt;chr&gt;</th><th scope=col>&lt;chr&gt;</th></tr>\n",
       "</thead>\n",
       "<tbody>\n",
       "\t<tr><td>39</td><td><span style=white-space:pre-wrap>State-gov       </span></td><td> 77516</td><td>Bachelors</td><td>13</td><td><span style=white-space:pre-wrap>Never-married     </span></td><td><span style=white-space:pre-wrap>Adm-clerical     </span></td><td>Not-in-family</td><td>White</td><td><span style=white-space:pre-wrap>Male  </span></td><td>2174</td><td>0</td><td>40</td><td>United-States</td><td>&lt;=50K</td></tr>\n",
       "\t<tr><td>50</td><td>Self-emp-not-inc</td><td> 83311</td><td>Bachelors</td><td>13</td><td>Married-civ-spouse</td><td><span style=white-space:pre-wrap>Exec-managerial  </span></td><td><span style=white-space:pre-wrap>Husband      </span></td><td>White</td><td><span style=white-space:pre-wrap>Male  </span></td><td><span style=white-space:pre-wrap>   0</span></td><td>0</td><td>13</td><td>United-States</td><td>&lt;=50K</td></tr>\n",
       "\t<tr><td>38</td><td><span style=white-space:pre-wrap>Private         </span></td><td>215646</td><td><span style=white-space:pre-wrap>HS-grad  </span></td><td> 9</td><td><span style=white-space:pre-wrap>Divorced          </span></td><td>Handlers-cleaners</td><td>Not-in-family</td><td>White</td><td><span style=white-space:pre-wrap>Male  </span></td><td><span style=white-space:pre-wrap>   0</span></td><td>0</td><td>40</td><td>United-States</td><td>&lt;=50K</td></tr>\n",
       "\t<tr><td>53</td><td><span style=white-space:pre-wrap>Private         </span></td><td>234721</td><td><span style=white-space:pre-wrap>11th     </span></td><td> 7</td><td>Married-civ-spouse</td><td>Handlers-cleaners</td><td><span style=white-space:pre-wrap>Husband      </span></td><td>Black</td><td><span style=white-space:pre-wrap>Male  </span></td><td><span style=white-space:pre-wrap>   0</span></td><td>0</td><td>40</td><td>United-States</td><td>&lt;=50K</td></tr>\n",
       "\t<tr><td>28</td><td><span style=white-space:pre-wrap>Private         </span></td><td>338409</td><td>Bachelors</td><td>13</td><td>Married-civ-spouse</td><td><span style=white-space:pre-wrap>Prof-specialty   </span></td><td><span style=white-space:pre-wrap>Wife         </span></td><td>Black</td><td>Female</td><td><span style=white-space:pre-wrap>   0</span></td><td>0</td><td>40</td><td><span style=white-space:pre-wrap>Cuba         </span></td><td>&lt;=50K</td></tr>\n",
       "\t<tr><td>37</td><td><span style=white-space:pre-wrap>Private         </span></td><td>284582</td><td><span style=white-space:pre-wrap>Masters  </span></td><td>14</td><td>Married-civ-spouse</td><td><span style=white-space:pre-wrap>Exec-managerial  </span></td><td><span style=white-space:pre-wrap>Wife         </span></td><td>White</td><td>Female</td><td><span style=white-space:pre-wrap>   0</span></td><td>0</td><td>40</td><td>United-States</td><td>&lt;=50K</td></tr>\n",
       "</tbody>\n",
       "</table>\n"
      ],
      "text/latex": [
       "A data.table: 6 × 15\n",
       "\\begin{tabular}{lllllllllllllll}\n",
       " age & workclass & fnlwgt & education & education\\_num & marital\\_status & occupation & relationship & race & sex & capital\\_gain & capital\\_loss & hours\\_per\\_week & native\\_country & income\\\\\n",
       " <int> & <chr> & <int> & <chr> & <int> & <chr> & <chr> & <chr> & <chr> & <chr> & <int> & <int> & <int> & <chr> & <chr>\\\\\n",
       "\\hline\n",
       "\t 39 & State-gov        &  77516 & Bachelors & 13 & Never-married      & Adm-clerical      & Not-in-family & White & Male   & 2174 & 0 & 40 & United-States & <=50K\\\\\n",
       "\t 50 & Self-emp-not-inc &  83311 & Bachelors & 13 & Married-civ-spouse & Exec-managerial   & Husband       & White & Male   &    0 & 0 & 13 & United-States & <=50K\\\\\n",
       "\t 38 & Private          & 215646 & HS-grad   &  9 & Divorced           & Handlers-cleaners & Not-in-family & White & Male   &    0 & 0 & 40 & United-States & <=50K\\\\\n",
       "\t 53 & Private          & 234721 & 11th      &  7 & Married-civ-spouse & Handlers-cleaners & Husband       & Black & Male   &    0 & 0 & 40 & United-States & <=50K\\\\\n",
       "\t 28 & Private          & 338409 & Bachelors & 13 & Married-civ-spouse & Prof-specialty    & Wife          & Black & Female &    0 & 0 & 40 & Cuba          & <=50K\\\\\n",
       "\t 37 & Private          & 284582 & Masters   & 14 & Married-civ-spouse & Exec-managerial   & Wife          & White & Female &    0 & 0 & 40 & United-States & <=50K\\\\\n",
       "\\end{tabular}\n"
      ],
      "text/markdown": [
       "\n",
       "A data.table: 6 × 15\n",
       "\n",
       "| age &lt;int&gt; | workclass &lt;chr&gt; | fnlwgt &lt;int&gt; | education &lt;chr&gt; | education_num &lt;int&gt; | marital_status &lt;chr&gt; | occupation &lt;chr&gt; | relationship &lt;chr&gt; | race &lt;chr&gt; | sex &lt;chr&gt; | capital_gain &lt;int&gt; | capital_loss &lt;int&gt; | hours_per_week &lt;int&gt; | native_country &lt;chr&gt; | income &lt;chr&gt; |\n",
       "|---|---|---|---|---|---|---|---|---|---|---|---|---|---|---|\n",
       "| 39 | State-gov        |  77516 | Bachelors | 13 | Never-married      | Adm-clerical      | Not-in-family | White | Male   | 2174 | 0 | 40 | United-States | &lt;=50K |\n",
       "| 50 | Self-emp-not-inc |  83311 | Bachelors | 13 | Married-civ-spouse | Exec-managerial   | Husband       | White | Male   |    0 | 0 | 13 | United-States | &lt;=50K |\n",
       "| 38 | Private          | 215646 | HS-grad   |  9 | Divorced           | Handlers-cleaners | Not-in-family | White | Male   |    0 | 0 | 40 | United-States | &lt;=50K |\n",
       "| 53 | Private          | 234721 | 11th      |  7 | Married-civ-spouse | Handlers-cleaners | Husband       | Black | Male   |    0 | 0 | 40 | United-States | &lt;=50K |\n",
       "| 28 | Private          | 338409 | Bachelors | 13 | Married-civ-spouse | Prof-specialty    | Wife          | Black | Female |    0 | 0 | 40 | Cuba          | &lt;=50K |\n",
       "| 37 | Private          | 284582 | Masters   | 14 | Married-civ-spouse | Exec-managerial   | Wife          | White | Female |    0 | 0 | 40 | United-States | &lt;=50K |\n",
       "\n"
      ],
      "text/plain": [
       "  age workclass        fnlwgt education education_num marital_status    \n",
       "1 39  State-gov         77516 Bachelors 13            Never-married     \n",
       "2 50  Self-emp-not-inc  83311 Bachelors 13            Married-civ-spouse\n",
       "3 38  Private          215646 HS-grad    9            Divorced          \n",
       "4 53  Private          234721 11th       7            Married-civ-spouse\n",
       "5 28  Private          338409 Bachelors 13            Married-civ-spouse\n",
       "6 37  Private          284582 Masters   14            Married-civ-spouse\n",
       "  occupation        relationship  race  sex    capital_gain capital_loss\n",
       "1 Adm-clerical      Not-in-family White Male   2174         0           \n",
       "2 Exec-managerial   Husband       White Male      0         0           \n",
       "3 Handlers-cleaners Not-in-family White Male      0         0           \n",
       "4 Handlers-cleaners Husband       Black Male      0         0           \n",
       "5 Prof-specialty    Wife          Black Female    0         0           \n",
       "6 Exec-managerial   Wife          White Female    0         0           \n",
       "  hours_per_week native_country income\n",
       "1 40             United-States  <=50K \n",
       "2 13             United-States  <=50K \n",
       "3 40             United-States  <=50K \n",
       "4 40             United-States  <=50K \n",
       "5 40             Cuba           <=50K \n",
       "6 40             United-States  <=50K "
      ]
     },
     "metadata": {},
     "output_type": "display_data"
    }
   ],
   "source": [
    "marrital_stat <- adult_data %>%\n",
    "  mutate(marital_status = str_replace_all(marital_status, \"mar.ied\", \"married\"))\n",
    "head(marrital_stat)"
   ]
  },
  {
   "cell_type": "markdown",
   "id": "636c05b6-de9a-4eb4-a76a-263d3b7b0480",
   "metadata": {
    "tags": []
   },
   "source": [
    "## Qualifier w"
   ]
  },
  {
   "cell_type": "markdown",
   "id": "bb345948-fc1c-49b0-8b84-eb47a0a74d88",
   "metadata": {
    "tags": []
   },
   "source": [
    "It extracts rows where education contains any word character followed by \"school\""
   ]
  },
  {
   "cell_type": "code",
   "execution_count": 10,
   "id": "2f58ad4c-bcbc-4f38-ad5f-0a38676c323f",
   "metadata": {
    "tags": []
   },
   "outputs": [
    {
     "data": {
      "text/html": [
       "<table class=\"dataframe\">\n",
       "<caption>A data.table: 6 × 15</caption>\n",
       "<thead>\n",
       "\t<tr><th scope=col>age</th><th scope=col>workclass</th><th scope=col>fnlwgt</th><th scope=col>education</th><th scope=col>education_num</th><th scope=col>marital_status</th><th scope=col>occupation</th><th scope=col>relationship</th><th scope=col>race</th><th scope=col>sex</th><th scope=col>capital_gain</th><th scope=col>capital_loss</th><th scope=col>hours_per_week</th><th scope=col>native_country</th><th scope=col>income</th></tr>\n",
       "\t<tr><th scope=col>&lt;int&gt;</th><th scope=col>&lt;chr&gt;</th><th scope=col>&lt;int&gt;</th><th scope=col>&lt;chr&gt;</th><th scope=col>&lt;int&gt;</th><th scope=col>&lt;chr&gt;</th><th scope=col>&lt;chr&gt;</th><th scope=col>&lt;chr&gt;</th><th scope=col>&lt;chr&gt;</th><th scope=col>&lt;chr&gt;</th><th scope=col>&lt;int&gt;</th><th scope=col>&lt;int&gt;</th><th scope=col>&lt;int&gt;</th><th scope=col>&lt;chr&gt;</th><th scope=col>&lt;chr&gt;</th></tr>\n",
       "</thead>\n",
       "<tbody>\n",
       "\t<tr><td>53</td><td>Local-gov</td><td>140359</td><td>Preschool</td><td>1</td><td><span style=white-space:pre-wrap>Never-married     </span></td><td>Machine-op-inspct</td><td>Not-in-family </td><td>White</td><td>Female</td><td>0</td><td>0</td><td>35</td><td>United-States</td><td>&lt;=50K</td></tr>\n",
       "\t<tr><td>51</td><td>Local-gov</td><td>241843</td><td>Preschool</td><td>1</td><td>Married-civ-spouse</td><td><span style=white-space:pre-wrap>Other-service    </span></td><td><span style=white-space:pre-wrap>Husband       </span></td><td>White</td><td><span style=white-space:pre-wrap>Male  </span></td><td>0</td><td>0</td><td>40</td><td>United-States</td><td>&lt;=50K</td></tr>\n",
       "\t<tr><td>71</td><td><span style=white-space:pre-wrap>Private  </span></td><td>235079</td><td>Preschool</td><td>1</td><td><span style=white-space:pre-wrap>Widowed           </span></td><td><span style=white-space:pre-wrap>Craft-repair     </span></td><td><span style=white-space:pre-wrap>Unmarried     </span></td><td>Black</td><td><span style=white-space:pre-wrap>Male  </span></td><td>0</td><td>0</td><td>10</td><td>United-States</td><td>&lt;=50K</td></tr>\n",
       "\t<tr><td>31</td><td><span style=white-space:pre-wrap>Private  </span></td><td>452405</td><td>Preschool</td><td>1</td><td><span style=white-space:pre-wrap>Never-married     </span></td><td><span style=white-space:pre-wrap>Other-service    </span></td><td>Other-relative</td><td>White</td><td>Female</td><td>0</td><td>0</td><td>35</td><td><span style=white-space:pre-wrap>Mexico       </span></td><td>&lt;=50K</td></tr>\n",
       "\t<tr><td>33</td><td><span style=white-space:pre-wrap>Private  </span></td><td>239781</td><td>Preschool</td><td>1</td><td>Married-civ-spouse</td><td><span style=white-space:pre-wrap>Farming-fishing  </span></td><td><span style=white-space:pre-wrap>Husband       </span></td><td>White</td><td><span style=white-space:pre-wrap>Male  </span></td><td>0</td><td>0</td><td>40</td><td><span style=white-space:pre-wrap>Mexico       </span></td><td>&lt;=50K</td></tr>\n",
       "\t<tr><td>39</td><td><span style=white-space:pre-wrap>NA       </span></td><td>362685</td><td>Preschool</td><td>1</td><td><span style=white-space:pre-wrap>Widowed           </span></td><td><span style=white-space:pre-wrap>NA               </span></td><td>Not-in-family </td><td>White</td><td>Female</td><td>0</td><td>0</td><td>20</td><td><span style=white-space:pre-wrap>El-Salvador  </span></td><td>&lt;=50K</td></tr>\n",
       "</tbody>\n",
       "</table>\n"
      ],
      "text/latex": [
       "A data.table: 6 × 15\n",
       "\\begin{tabular}{lllllllllllllll}\n",
       " age & workclass & fnlwgt & education & education\\_num & marital\\_status & occupation & relationship & race & sex & capital\\_gain & capital\\_loss & hours\\_per\\_week & native\\_country & income\\\\\n",
       " <int> & <chr> & <int> & <chr> & <int> & <chr> & <chr> & <chr> & <chr> & <chr> & <int> & <int> & <int> & <chr> & <chr>\\\\\n",
       "\\hline\n",
       "\t 53 & Local-gov & 140359 & Preschool & 1 & Never-married      & Machine-op-inspct & Not-in-family  & White & Female & 0 & 0 & 35 & United-States & <=50K\\\\\n",
       "\t 51 & Local-gov & 241843 & Preschool & 1 & Married-civ-spouse & Other-service     & Husband        & White & Male   & 0 & 0 & 40 & United-States & <=50K\\\\\n",
       "\t 71 & Private   & 235079 & Preschool & 1 & Widowed            & Craft-repair      & Unmarried      & Black & Male   & 0 & 0 & 10 & United-States & <=50K\\\\\n",
       "\t 31 & Private   & 452405 & Preschool & 1 & Never-married      & Other-service     & Other-relative & White & Female & 0 & 0 & 35 & Mexico        & <=50K\\\\\n",
       "\t 33 & Private   & 239781 & Preschool & 1 & Married-civ-spouse & Farming-fishing   & Husband        & White & Male   & 0 & 0 & 40 & Mexico        & <=50K\\\\\n",
       "\t 39 & NA        & 362685 & Preschool & 1 & Widowed            & NA                & Not-in-family  & White & Female & 0 & 0 & 20 & El-Salvador   & <=50K\\\\\n",
       "\\end{tabular}\n"
      ],
      "text/markdown": [
       "\n",
       "A data.table: 6 × 15\n",
       "\n",
       "| age &lt;int&gt; | workclass &lt;chr&gt; | fnlwgt &lt;int&gt; | education &lt;chr&gt; | education_num &lt;int&gt; | marital_status &lt;chr&gt; | occupation &lt;chr&gt; | relationship &lt;chr&gt; | race &lt;chr&gt; | sex &lt;chr&gt; | capital_gain &lt;int&gt; | capital_loss &lt;int&gt; | hours_per_week &lt;int&gt; | native_country &lt;chr&gt; | income &lt;chr&gt; |\n",
       "|---|---|---|---|---|---|---|---|---|---|---|---|---|---|---|\n",
       "| 53 | Local-gov | 140359 | Preschool | 1 | Never-married      | Machine-op-inspct | Not-in-family  | White | Female | 0 | 0 | 35 | United-States | &lt;=50K |\n",
       "| 51 | Local-gov | 241843 | Preschool | 1 | Married-civ-spouse | Other-service     | Husband        | White | Male   | 0 | 0 | 40 | United-States | &lt;=50K |\n",
       "| 71 | Private   | 235079 | Preschool | 1 | Widowed            | Craft-repair      | Unmarried      | Black | Male   | 0 | 0 | 10 | United-States | &lt;=50K |\n",
       "| 31 | Private   | 452405 | Preschool | 1 | Never-married      | Other-service     | Other-relative | White | Female | 0 | 0 | 35 | Mexico        | &lt;=50K |\n",
       "| 33 | Private   | 239781 | Preschool | 1 | Married-civ-spouse | Farming-fishing   | Husband        | White | Male   | 0 | 0 | 40 | Mexico        | &lt;=50K |\n",
       "| 39 | NA        | 362685 | Preschool | 1 | Widowed            | NA                | Not-in-family  | White | Female | 0 | 0 | 20 | El-Salvador   | &lt;=50K |\n",
       "\n"
      ],
      "text/plain": [
       "  age workclass fnlwgt education education_num marital_status    \n",
       "1 53  Local-gov 140359 Preschool 1             Never-married     \n",
       "2 51  Local-gov 241843 Preschool 1             Married-civ-spouse\n",
       "3 71  Private   235079 Preschool 1             Widowed           \n",
       "4 31  Private   452405 Preschool 1             Never-married     \n",
       "5 33  Private   239781 Preschool 1             Married-civ-spouse\n",
       "6 39  NA        362685 Preschool 1             Widowed           \n",
       "  occupation        relationship   race  sex    capital_gain capital_loss\n",
       "1 Machine-op-inspct Not-in-family  White Female 0            0           \n",
       "2 Other-service     Husband        White Male   0            0           \n",
       "3 Craft-repair      Unmarried      Black Male   0            0           \n",
       "4 Other-service     Other-relative White Female 0            0           \n",
       "5 Farming-fishing   Husband        White Male   0            0           \n",
       "6 NA                Not-in-family  White Female 0            0           \n",
       "  hours_per_week native_country income\n",
       "1 35             United-States  <=50K \n",
       "2 40             United-States  <=50K \n",
       "3 10             United-States  <=50K \n",
       "4 35             Mexico         <=50K \n",
       "5 40             Mexico         <=50K \n",
       "6 20             El-Salvador    <=50K "
      ]
     },
     "metadata": {},
     "output_type": "display_data"
    }
   ],
   "source": [
    "education <- adult_data %>% filter(str_detect(education, \"\\\\wschool\"))\n",
    "head(education)"
   ]
  },
  {
   "cell_type": "markdown",
   "id": "48124b8e-569d-42fc-b1b5-45a93a4564f8",
   "metadata": {
    "tags": []
   },
   "source": [
    "## Qualifier d"
   ]
  },
  {
   "cell_type": "markdown",
   "id": "dbb321ea-52fb-4f81-8e94-36df68a7c1ae",
   "metadata": {
    "tags": []
   },
   "source": [
    "It detects rows where hours_per_week includes one or more digits"
   ]
  },
  {
   "cell_type": "code",
   "execution_count": 11,
   "id": "7233a47b-be85-45f9-9c8c-2928a6b12a5f",
   "metadata": {
    "tags": []
   },
   "outputs": [
    {
     "data": {
      "text/html": [
       "<table class=\"dataframe\">\n",
       "<caption>A data.table: 6 × 15</caption>\n",
       "<thead>\n",
       "\t<tr><th scope=col>age</th><th scope=col>workclass</th><th scope=col>fnlwgt</th><th scope=col>education</th><th scope=col>education_num</th><th scope=col>marital_status</th><th scope=col>occupation</th><th scope=col>relationship</th><th scope=col>race</th><th scope=col>sex</th><th scope=col>capital_gain</th><th scope=col>capital_loss</th><th scope=col>hours_per_week</th><th scope=col>native_country</th><th scope=col>income</th></tr>\n",
       "\t<tr><th scope=col>&lt;int&gt;</th><th scope=col>&lt;chr&gt;</th><th scope=col>&lt;int&gt;</th><th scope=col>&lt;chr&gt;</th><th scope=col>&lt;int&gt;</th><th scope=col>&lt;chr&gt;</th><th scope=col>&lt;chr&gt;</th><th scope=col>&lt;chr&gt;</th><th scope=col>&lt;chr&gt;</th><th scope=col>&lt;chr&gt;</th><th scope=col>&lt;int&gt;</th><th scope=col>&lt;int&gt;</th><th scope=col>&lt;int&gt;</th><th scope=col>&lt;chr&gt;</th><th scope=col>&lt;chr&gt;</th></tr>\n",
       "</thead>\n",
       "<tbody>\n",
       "\t<tr><td>53</td><td>Local-gov</td><td>140359</td><td>Preschool</td><td>1</td><td><span style=white-space:pre-wrap>Never-married     </span></td><td>Machine-op-inspct</td><td>Not-in-family </td><td>White</td><td>Female</td><td>0</td><td>0</td><td>35</td><td>United-States</td><td>&lt;=50K</td></tr>\n",
       "\t<tr><td>51</td><td>Local-gov</td><td>241843</td><td>Preschool</td><td>1</td><td>Married-civ-spouse</td><td><span style=white-space:pre-wrap>Other-service    </span></td><td><span style=white-space:pre-wrap>Husband       </span></td><td>White</td><td><span style=white-space:pre-wrap>Male  </span></td><td>0</td><td>0</td><td>40</td><td>United-States</td><td>&lt;=50K</td></tr>\n",
       "\t<tr><td>71</td><td><span style=white-space:pre-wrap>Private  </span></td><td>235079</td><td>Preschool</td><td>1</td><td><span style=white-space:pre-wrap>Widowed           </span></td><td><span style=white-space:pre-wrap>Craft-repair     </span></td><td><span style=white-space:pre-wrap>Unmarried     </span></td><td>Black</td><td><span style=white-space:pre-wrap>Male  </span></td><td>0</td><td>0</td><td>10</td><td>United-States</td><td>&lt;=50K</td></tr>\n",
       "\t<tr><td>31</td><td><span style=white-space:pre-wrap>Private  </span></td><td>452405</td><td>Preschool</td><td>1</td><td><span style=white-space:pre-wrap>Never-married     </span></td><td><span style=white-space:pre-wrap>Other-service    </span></td><td>Other-relative</td><td>White</td><td>Female</td><td>0</td><td>0</td><td>35</td><td><span style=white-space:pre-wrap>Mexico       </span></td><td>&lt;=50K</td></tr>\n",
       "\t<tr><td>33</td><td><span style=white-space:pre-wrap>Private  </span></td><td>239781</td><td>Preschool</td><td>1</td><td>Married-civ-spouse</td><td><span style=white-space:pre-wrap>Farming-fishing  </span></td><td><span style=white-space:pre-wrap>Husband       </span></td><td>White</td><td><span style=white-space:pre-wrap>Male  </span></td><td>0</td><td>0</td><td>40</td><td><span style=white-space:pre-wrap>Mexico       </span></td><td>&lt;=50K</td></tr>\n",
       "\t<tr><td>39</td><td><span style=white-space:pre-wrap>NA       </span></td><td>362685</td><td>Preschool</td><td>1</td><td><span style=white-space:pre-wrap>Widowed           </span></td><td><span style=white-space:pre-wrap>NA               </span></td><td>Not-in-family </td><td>White</td><td>Female</td><td>0</td><td>0</td><td>20</td><td><span style=white-space:pre-wrap>El-Salvador  </span></td><td>&lt;=50K</td></tr>\n",
       "</tbody>\n",
       "</table>\n"
      ],
      "text/latex": [
       "A data.table: 6 × 15\n",
       "\\begin{tabular}{lllllllllllllll}\n",
       " age & workclass & fnlwgt & education & education\\_num & marital\\_status & occupation & relationship & race & sex & capital\\_gain & capital\\_loss & hours\\_per\\_week & native\\_country & income\\\\\n",
       " <int> & <chr> & <int> & <chr> & <int> & <chr> & <chr> & <chr> & <chr> & <chr> & <int> & <int> & <int> & <chr> & <chr>\\\\\n",
       "\\hline\n",
       "\t 53 & Local-gov & 140359 & Preschool & 1 & Never-married      & Machine-op-inspct & Not-in-family  & White & Female & 0 & 0 & 35 & United-States & <=50K\\\\\n",
       "\t 51 & Local-gov & 241843 & Preschool & 1 & Married-civ-spouse & Other-service     & Husband        & White & Male   & 0 & 0 & 40 & United-States & <=50K\\\\\n",
       "\t 71 & Private   & 235079 & Preschool & 1 & Widowed            & Craft-repair      & Unmarried      & Black & Male   & 0 & 0 & 10 & United-States & <=50K\\\\\n",
       "\t 31 & Private   & 452405 & Preschool & 1 & Never-married      & Other-service     & Other-relative & White & Female & 0 & 0 & 35 & Mexico        & <=50K\\\\\n",
       "\t 33 & Private   & 239781 & Preschool & 1 & Married-civ-spouse & Farming-fishing   & Husband        & White & Male   & 0 & 0 & 40 & Mexico        & <=50K\\\\\n",
       "\t 39 & NA        & 362685 & Preschool & 1 & Widowed            & NA                & Not-in-family  & White & Female & 0 & 0 & 20 & El-Salvador   & <=50K\\\\\n",
       "\\end{tabular}\n"
      ],
      "text/markdown": [
       "\n",
       "A data.table: 6 × 15\n",
       "\n",
       "| age &lt;int&gt; | workclass &lt;chr&gt; | fnlwgt &lt;int&gt; | education &lt;chr&gt; | education_num &lt;int&gt; | marital_status &lt;chr&gt; | occupation &lt;chr&gt; | relationship &lt;chr&gt; | race &lt;chr&gt; | sex &lt;chr&gt; | capital_gain &lt;int&gt; | capital_loss &lt;int&gt; | hours_per_week &lt;int&gt; | native_country &lt;chr&gt; | income &lt;chr&gt; |\n",
       "|---|---|---|---|---|---|---|---|---|---|---|---|---|---|---|\n",
       "| 53 | Local-gov | 140359 | Preschool | 1 | Never-married      | Machine-op-inspct | Not-in-family  | White | Female | 0 | 0 | 35 | United-States | &lt;=50K |\n",
       "| 51 | Local-gov | 241843 | Preschool | 1 | Married-civ-spouse | Other-service     | Husband        | White | Male   | 0 | 0 | 40 | United-States | &lt;=50K |\n",
       "| 71 | Private   | 235079 | Preschool | 1 | Widowed            | Craft-repair      | Unmarried      | Black | Male   | 0 | 0 | 10 | United-States | &lt;=50K |\n",
       "| 31 | Private   | 452405 | Preschool | 1 | Never-married      | Other-service     | Other-relative | White | Female | 0 | 0 | 35 | Mexico        | &lt;=50K |\n",
       "| 33 | Private   | 239781 | Preschool | 1 | Married-civ-spouse | Farming-fishing   | Husband        | White | Male   | 0 | 0 | 40 | Mexico        | &lt;=50K |\n",
       "| 39 | NA        | 362685 | Preschool | 1 | Widowed            | NA                | Not-in-family  | White | Female | 0 | 0 | 20 | El-Salvador   | &lt;=50K |\n",
       "\n"
      ],
      "text/plain": [
       "  age workclass fnlwgt education education_num marital_status    \n",
       "1 53  Local-gov 140359 Preschool 1             Never-married     \n",
       "2 51  Local-gov 241843 Preschool 1             Married-civ-spouse\n",
       "3 71  Private   235079 Preschool 1             Widowed           \n",
       "4 31  Private   452405 Preschool 1             Never-married     \n",
       "5 33  Private   239781 Preschool 1             Married-civ-spouse\n",
       "6 39  NA        362685 Preschool 1             Widowed           \n",
       "  occupation        relationship   race  sex    capital_gain capital_loss\n",
       "1 Machine-op-inspct Not-in-family  White Female 0            0           \n",
       "2 Other-service     Husband        White Male   0            0           \n",
       "3 Craft-repair      Unmarried      Black Male   0            0           \n",
       "4 Other-service     Other-relative White Female 0            0           \n",
       "5 Farming-fishing   Husband        White Male   0            0           \n",
       "6 NA                Not-in-family  White Female 0            0           \n",
       "  hours_per_week native_country income\n",
       "1 35             United-States  <=50K \n",
       "2 40             United-States  <=50K \n",
       "3 10             United-States  <=50K \n",
       "4 35             Mexico         <=50K \n",
       "5 40             Mexico         <=50K \n",
       "6 20             El-Salvador    <=50K "
      ]
     },
     "metadata": {},
     "output_type": "display_data"
    }
   ],
   "source": [
    "education1 <- adult_data %>% filter(str_detect(education, \"\\\\d+\"))\n",
    "head(education)"
   ]
  },
  {
   "cell_type": "markdown",
   "id": "ca709a65-8d4b-4a8e-8049-5fd2f71f85cf",
   "metadata": {
    "tags": []
   },
   "source": [
    "## Qualifier s"
   ]
  },
  {
   "cell_type": "markdown",
   "id": "0e6f76f0-7a46-464e-bf7f-150e19c48ac2",
   "metadata": {
    "tags": []
   },
   "source": [
    "It replaces multiple whitespace characters in native_country with a single space"
   ]
  },
  {
   "cell_type": "code",
   "execution_count": 12,
   "id": "369adc62-1df1-4156-bc41-111322b7f240",
   "metadata": {
    "tags": []
   },
   "outputs": [
    {
     "data": {
      "text/html": [
       "<table class=\"dataframe\">\n",
       "<caption>A data.table: 6 × 15</caption>\n",
       "<thead>\n",
       "\t<tr><th scope=col>age</th><th scope=col>workclass</th><th scope=col>fnlwgt</th><th scope=col>education</th><th scope=col>education_num</th><th scope=col>marital_status</th><th scope=col>occupation</th><th scope=col>relationship</th><th scope=col>race</th><th scope=col>sex</th><th scope=col>capital_gain</th><th scope=col>capital_loss</th><th scope=col>hours_per_week</th><th scope=col>native_country</th><th scope=col>income</th></tr>\n",
       "\t<tr><th scope=col>&lt;int&gt;</th><th scope=col>&lt;chr&gt;</th><th scope=col>&lt;int&gt;</th><th scope=col>&lt;chr&gt;</th><th scope=col>&lt;int&gt;</th><th scope=col>&lt;chr&gt;</th><th scope=col>&lt;chr&gt;</th><th scope=col>&lt;chr&gt;</th><th scope=col>&lt;chr&gt;</th><th scope=col>&lt;chr&gt;</th><th scope=col>&lt;int&gt;</th><th scope=col>&lt;int&gt;</th><th scope=col>&lt;int&gt;</th><th scope=col>&lt;chr&gt;</th><th scope=col>&lt;chr&gt;</th></tr>\n",
       "</thead>\n",
       "<tbody>\n",
       "\t<tr><td>39</td><td><span style=white-space:pre-wrap>State-gov       </span></td><td> 77516</td><td>Bachelors</td><td>13</td><td><span style=white-space:pre-wrap>Never-married     </span></td><td><span style=white-space:pre-wrap>Adm-clerical     </span></td><td>Not-in-family</td><td>White</td><td><span style=white-space:pre-wrap>Male  </span></td><td>2174</td><td>0</td><td>40</td><td>United-States</td><td>&lt;=50K</td></tr>\n",
       "\t<tr><td>50</td><td>Self-emp-not-inc</td><td> 83311</td><td>Bachelors</td><td>13</td><td>Married-civ-spouse</td><td><span style=white-space:pre-wrap>Exec-managerial  </span></td><td><span style=white-space:pre-wrap>Husband      </span></td><td>White</td><td><span style=white-space:pre-wrap>Male  </span></td><td><span style=white-space:pre-wrap>   0</span></td><td>0</td><td>13</td><td>United-States</td><td>&lt;=50K</td></tr>\n",
       "\t<tr><td>38</td><td><span style=white-space:pre-wrap>Private         </span></td><td>215646</td><td><span style=white-space:pre-wrap>HS-grad  </span></td><td> 9</td><td><span style=white-space:pre-wrap>Divorced          </span></td><td>Handlers-cleaners</td><td>Not-in-family</td><td>White</td><td><span style=white-space:pre-wrap>Male  </span></td><td><span style=white-space:pre-wrap>   0</span></td><td>0</td><td>40</td><td>United-States</td><td>&lt;=50K</td></tr>\n",
       "\t<tr><td>53</td><td><span style=white-space:pre-wrap>Private         </span></td><td>234721</td><td><span style=white-space:pre-wrap>11th     </span></td><td> 7</td><td>Married-civ-spouse</td><td>Handlers-cleaners</td><td><span style=white-space:pre-wrap>Husband      </span></td><td>Black</td><td><span style=white-space:pre-wrap>Male  </span></td><td><span style=white-space:pre-wrap>   0</span></td><td>0</td><td>40</td><td>United-States</td><td>&lt;=50K</td></tr>\n",
       "\t<tr><td>28</td><td><span style=white-space:pre-wrap>Private         </span></td><td>338409</td><td>Bachelors</td><td>13</td><td>Married-civ-spouse</td><td><span style=white-space:pre-wrap>Prof-specialty   </span></td><td><span style=white-space:pre-wrap>Wife         </span></td><td>Black</td><td>Female</td><td><span style=white-space:pre-wrap>   0</span></td><td>0</td><td>40</td><td><span style=white-space:pre-wrap>Cuba         </span></td><td>&lt;=50K</td></tr>\n",
       "\t<tr><td>37</td><td><span style=white-space:pre-wrap>Private         </span></td><td>284582</td><td><span style=white-space:pre-wrap>Masters  </span></td><td>14</td><td>Married-civ-spouse</td><td><span style=white-space:pre-wrap>Exec-managerial  </span></td><td><span style=white-space:pre-wrap>Wife         </span></td><td>White</td><td>Female</td><td><span style=white-space:pre-wrap>   0</span></td><td>0</td><td>40</td><td>United-States</td><td>&lt;=50K</td></tr>\n",
       "</tbody>\n",
       "</table>\n"
      ],
      "text/latex": [
       "A data.table: 6 × 15\n",
       "\\begin{tabular}{lllllllllllllll}\n",
       " age & workclass & fnlwgt & education & education\\_num & marital\\_status & occupation & relationship & race & sex & capital\\_gain & capital\\_loss & hours\\_per\\_week & native\\_country & income\\\\\n",
       " <int> & <chr> & <int> & <chr> & <int> & <chr> & <chr> & <chr> & <chr> & <chr> & <int> & <int> & <int> & <chr> & <chr>\\\\\n",
       "\\hline\n",
       "\t 39 & State-gov        &  77516 & Bachelors & 13 & Never-married      & Adm-clerical      & Not-in-family & White & Male   & 2174 & 0 & 40 & United-States & <=50K\\\\\n",
       "\t 50 & Self-emp-not-inc &  83311 & Bachelors & 13 & Married-civ-spouse & Exec-managerial   & Husband       & White & Male   &    0 & 0 & 13 & United-States & <=50K\\\\\n",
       "\t 38 & Private          & 215646 & HS-grad   &  9 & Divorced           & Handlers-cleaners & Not-in-family & White & Male   &    0 & 0 & 40 & United-States & <=50K\\\\\n",
       "\t 53 & Private          & 234721 & 11th      &  7 & Married-civ-spouse & Handlers-cleaners & Husband       & Black & Male   &    0 & 0 & 40 & United-States & <=50K\\\\\n",
       "\t 28 & Private          & 338409 & Bachelors & 13 & Married-civ-spouse & Prof-specialty    & Wife          & Black & Female &    0 & 0 & 40 & Cuba          & <=50K\\\\\n",
       "\t 37 & Private          & 284582 & Masters   & 14 & Married-civ-spouse & Exec-managerial   & Wife          & White & Female &    0 & 0 & 40 & United-States & <=50K\\\\\n",
       "\\end{tabular}\n"
      ],
      "text/markdown": [
       "\n",
       "A data.table: 6 × 15\n",
       "\n",
       "| age &lt;int&gt; | workclass &lt;chr&gt; | fnlwgt &lt;int&gt; | education &lt;chr&gt; | education_num &lt;int&gt; | marital_status &lt;chr&gt; | occupation &lt;chr&gt; | relationship &lt;chr&gt; | race &lt;chr&gt; | sex &lt;chr&gt; | capital_gain &lt;int&gt; | capital_loss &lt;int&gt; | hours_per_week &lt;int&gt; | native_country &lt;chr&gt; | income &lt;chr&gt; |\n",
       "|---|---|---|---|---|---|---|---|---|---|---|---|---|---|---|\n",
       "| 39 | State-gov        |  77516 | Bachelors | 13 | Never-married      | Adm-clerical      | Not-in-family | White | Male   | 2174 | 0 | 40 | United-States | &lt;=50K |\n",
       "| 50 | Self-emp-not-inc |  83311 | Bachelors | 13 | Married-civ-spouse | Exec-managerial   | Husband       | White | Male   |    0 | 0 | 13 | United-States | &lt;=50K |\n",
       "| 38 | Private          | 215646 | HS-grad   |  9 | Divorced           | Handlers-cleaners | Not-in-family | White | Male   |    0 | 0 | 40 | United-States | &lt;=50K |\n",
       "| 53 | Private          | 234721 | 11th      |  7 | Married-civ-spouse | Handlers-cleaners | Husband       | Black | Male   |    0 | 0 | 40 | United-States | &lt;=50K |\n",
       "| 28 | Private          | 338409 | Bachelors | 13 | Married-civ-spouse | Prof-specialty    | Wife          | Black | Female |    0 | 0 | 40 | Cuba          | &lt;=50K |\n",
       "| 37 | Private          | 284582 | Masters   | 14 | Married-civ-spouse | Exec-managerial   | Wife          | White | Female |    0 | 0 | 40 | United-States | &lt;=50K |\n",
       "\n"
      ],
      "text/plain": [
       "  age workclass        fnlwgt education education_num marital_status    \n",
       "1 39  State-gov         77516 Bachelors 13            Never-married     \n",
       "2 50  Self-emp-not-inc  83311 Bachelors 13            Married-civ-spouse\n",
       "3 38  Private          215646 HS-grad    9            Divorced          \n",
       "4 53  Private          234721 11th       7            Married-civ-spouse\n",
       "5 28  Private          338409 Bachelors 13            Married-civ-spouse\n",
       "6 37  Private          284582 Masters   14            Married-civ-spouse\n",
       "  occupation        relationship  race  sex    capital_gain capital_loss\n",
       "1 Adm-clerical      Not-in-family White Male   2174         0           \n",
       "2 Exec-managerial   Husband       White Male      0         0           \n",
       "3 Handlers-cleaners Not-in-family White Male      0         0           \n",
       "4 Handlers-cleaners Husband       Black Male      0         0           \n",
       "5 Prof-specialty    Wife          Black Female    0         0           \n",
       "6 Exec-managerial   Wife          White Female    0         0           \n",
       "  hours_per_week native_country income\n",
       "1 40             United-States  <=50K \n",
       "2 13             United-States  <=50K \n",
       "3 40             United-States  <=50K \n",
       "4 40             United-States  <=50K \n",
       "5 40             Cuba           <=50K \n",
       "6 40             United-States  <=50K "
      ]
     },
     "metadata": {},
     "output_type": "display_data"
    }
   ],
   "source": [
    "native_country <- adult_data %>%\n",
    "  mutate(native_country = str_replace_all(native_country, \"\\\\s+\", \" \"))\n",
    "head(native_country)"
   ]
  },
  {
   "cell_type": "markdown",
   "id": "3c22efb2-319f-46c2-8677-a33d095f677b",
   "metadata": {
    "tags": []
   },
   "source": [
    "## Included character set defined inside []"
   ]
  },
  {
   "cell_type": "markdown",
   "id": "17725124-cd7c-4074-9a7b-c64a995a44c1",
   "metadata": {
    "tags": []
   },
   "source": [
    "It extracts rows where sex is either \"M\" or \"F,\" filtering the dataset to include only male or female entries."
   ]
  },
  {
   "cell_type": "code",
   "execution_count": 13,
   "id": "695aa59a-1ba6-49ae-b614-702241b0e546",
   "metadata": {
    "tags": []
   },
   "outputs": [
    {
     "data": {
      "text/html": [
       "<table class=\"dataframe\">\n",
       "<caption>A data.table: 6 × 15</caption>\n",
       "<thead>\n",
       "\t<tr><th scope=col>age</th><th scope=col>workclass</th><th scope=col>fnlwgt</th><th scope=col>education</th><th scope=col>education_num</th><th scope=col>marital_status</th><th scope=col>occupation</th><th scope=col>relationship</th><th scope=col>race</th><th scope=col>sex</th><th scope=col>capital_gain</th><th scope=col>capital_loss</th><th scope=col>hours_per_week</th><th scope=col>native_country</th><th scope=col>income</th></tr>\n",
       "\t<tr><th scope=col>&lt;int&gt;</th><th scope=col>&lt;chr&gt;</th><th scope=col>&lt;int&gt;</th><th scope=col>&lt;chr&gt;</th><th scope=col>&lt;int&gt;</th><th scope=col>&lt;chr&gt;</th><th scope=col>&lt;chr&gt;</th><th scope=col>&lt;chr&gt;</th><th scope=col>&lt;chr&gt;</th><th scope=col>&lt;chr&gt;</th><th scope=col>&lt;int&gt;</th><th scope=col>&lt;int&gt;</th><th scope=col>&lt;int&gt;</th><th scope=col>&lt;chr&gt;</th><th scope=col>&lt;chr&gt;</th></tr>\n",
       "</thead>\n",
       "<tbody>\n",
       "\t<tr><td>39</td><td><span style=white-space:pre-wrap>State-gov       </span></td><td> 77516</td><td>Bachelors</td><td>13</td><td><span style=white-space:pre-wrap>Never-married     </span></td><td><span style=white-space:pre-wrap>Adm-clerical     </span></td><td>Not-in-family</td><td>White</td><td><span style=white-space:pre-wrap>Male  </span></td><td>2174</td><td>0</td><td>40</td><td>United-States</td><td>&lt;=50K</td></tr>\n",
       "\t<tr><td>50</td><td>Self-emp-not-inc</td><td> 83311</td><td>Bachelors</td><td>13</td><td>Married-civ-spouse</td><td><span style=white-space:pre-wrap>Exec-managerial  </span></td><td><span style=white-space:pre-wrap>Husband      </span></td><td>White</td><td><span style=white-space:pre-wrap>Male  </span></td><td><span style=white-space:pre-wrap>   0</span></td><td>0</td><td>13</td><td>United-States</td><td>&lt;=50K</td></tr>\n",
       "\t<tr><td>38</td><td><span style=white-space:pre-wrap>Private         </span></td><td>215646</td><td><span style=white-space:pre-wrap>HS-grad  </span></td><td> 9</td><td><span style=white-space:pre-wrap>Divorced          </span></td><td>Handlers-cleaners</td><td>Not-in-family</td><td>White</td><td><span style=white-space:pre-wrap>Male  </span></td><td><span style=white-space:pre-wrap>   0</span></td><td>0</td><td>40</td><td>United-States</td><td>&lt;=50K</td></tr>\n",
       "\t<tr><td>53</td><td><span style=white-space:pre-wrap>Private         </span></td><td>234721</td><td><span style=white-space:pre-wrap>11th     </span></td><td> 7</td><td>Married-civ-spouse</td><td>Handlers-cleaners</td><td><span style=white-space:pre-wrap>Husband      </span></td><td>Black</td><td><span style=white-space:pre-wrap>Male  </span></td><td><span style=white-space:pre-wrap>   0</span></td><td>0</td><td>40</td><td>United-States</td><td>&lt;=50K</td></tr>\n",
       "\t<tr><td>28</td><td><span style=white-space:pre-wrap>Private         </span></td><td>338409</td><td>Bachelors</td><td>13</td><td>Married-civ-spouse</td><td><span style=white-space:pre-wrap>Prof-specialty   </span></td><td><span style=white-space:pre-wrap>Wife         </span></td><td>Black</td><td>Female</td><td><span style=white-space:pre-wrap>   0</span></td><td>0</td><td>40</td><td><span style=white-space:pre-wrap>Cuba         </span></td><td>&lt;=50K</td></tr>\n",
       "\t<tr><td>37</td><td><span style=white-space:pre-wrap>Private         </span></td><td>284582</td><td><span style=white-space:pre-wrap>Masters  </span></td><td>14</td><td>Married-civ-spouse</td><td><span style=white-space:pre-wrap>Exec-managerial  </span></td><td><span style=white-space:pre-wrap>Wife         </span></td><td>White</td><td>Female</td><td><span style=white-space:pre-wrap>   0</span></td><td>0</td><td>40</td><td>United-States</td><td>&lt;=50K</td></tr>\n",
       "</tbody>\n",
       "</table>\n"
      ],
      "text/latex": [
       "A data.table: 6 × 15\n",
       "\\begin{tabular}{lllllllllllllll}\n",
       " age & workclass & fnlwgt & education & education\\_num & marital\\_status & occupation & relationship & race & sex & capital\\_gain & capital\\_loss & hours\\_per\\_week & native\\_country & income\\\\\n",
       " <int> & <chr> & <int> & <chr> & <int> & <chr> & <chr> & <chr> & <chr> & <chr> & <int> & <int> & <int> & <chr> & <chr>\\\\\n",
       "\\hline\n",
       "\t 39 & State-gov        &  77516 & Bachelors & 13 & Never-married      & Adm-clerical      & Not-in-family & White & Male   & 2174 & 0 & 40 & United-States & <=50K\\\\\n",
       "\t 50 & Self-emp-not-inc &  83311 & Bachelors & 13 & Married-civ-spouse & Exec-managerial   & Husband       & White & Male   &    0 & 0 & 13 & United-States & <=50K\\\\\n",
       "\t 38 & Private          & 215646 & HS-grad   &  9 & Divorced           & Handlers-cleaners & Not-in-family & White & Male   &    0 & 0 & 40 & United-States & <=50K\\\\\n",
       "\t 53 & Private          & 234721 & 11th      &  7 & Married-civ-spouse & Handlers-cleaners & Husband       & Black & Male   &    0 & 0 & 40 & United-States & <=50K\\\\\n",
       "\t 28 & Private          & 338409 & Bachelors & 13 & Married-civ-spouse & Prof-specialty    & Wife          & Black & Female &    0 & 0 & 40 & Cuba          & <=50K\\\\\n",
       "\t 37 & Private          & 284582 & Masters   & 14 & Married-civ-spouse & Exec-managerial   & Wife          & White & Female &    0 & 0 & 40 & United-States & <=50K\\\\\n",
       "\\end{tabular}\n"
      ],
      "text/markdown": [
       "\n",
       "A data.table: 6 × 15\n",
       "\n",
       "| age &lt;int&gt; | workclass &lt;chr&gt; | fnlwgt &lt;int&gt; | education &lt;chr&gt; | education_num &lt;int&gt; | marital_status &lt;chr&gt; | occupation &lt;chr&gt; | relationship &lt;chr&gt; | race &lt;chr&gt; | sex &lt;chr&gt; | capital_gain &lt;int&gt; | capital_loss &lt;int&gt; | hours_per_week &lt;int&gt; | native_country &lt;chr&gt; | income &lt;chr&gt; |\n",
       "|---|---|---|---|---|---|---|---|---|---|---|---|---|---|---|\n",
       "| 39 | State-gov        |  77516 | Bachelors | 13 | Never-married      | Adm-clerical      | Not-in-family | White | Male   | 2174 | 0 | 40 | United-States | &lt;=50K |\n",
       "| 50 | Self-emp-not-inc |  83311 | Bachelors | 13 | Married-civ-spouse | Exec-managerial   | Husband       | White | Male   |    0 | 0 | 13 | United-States | &lt;=50K |\n",
       "| 38 | Private          | 215646 | HS-grad   |  9 | Divorced           | Handlers-cleaners | Not-in-family | White | Male   |    0 | 0 | 40 | United-States | &lt;=50K |\n",
       "| 53 | Private          | 234721 | 11th      |  7 | Married-civ-spouse | Handlers-cleaners | Husband       | Black | Male   |    0 | 0 | 40 | United-States | &lt;=50K |\n",
       "| 28 | Private          | 338409 | Bachelors | 13 | Married-civ-spouse | Prof-specialty    | Wife          | Black | Female |    0 | 0 | 40 | Cuba          | &lt;=50K |\n",
       "| 37 | Private          | 284582 | Masters   | 14 | Married-civ-spouse | Exec-managerial   | Wife          | White | Female |    0 | 0 | 40 | United-States | &lt;=50K |\n",
       "\n"
      ],
      "text/plain": [
       "  age workclass        fnlwgt education education_num marital_status    \n",
       "1 39  State-gov         77516 Bachelors 13            Never-married     \n",
       "2 50  Self-emp-not-inc  83311 Bachelors 13            Married-civ-spouse\n",
       "3 38  Private          215646 HS-grad    9            Divorced          \n",
       "4 53  Private          234721 11th       7            Married-civ-spouse\n",
       "5 28  Private          338409 Bachelors 13            Married-civ-spouse\n",
       "6 37  Private          284582 Masters   14            Married-civ-spouse\n",
       "  occupation        relationship  race  sex    capital_gain capital_loss\n",
       "1 Adm-clerical      Not-in-family White Male   2174         0           \n",
       "2 Exec-managerial   Husband       White Male      0         0           \n",
       "3 Handlers-cleaners Not-in-family White Male      0         0           \n",
       "4 Handlers-cleaners Husband       Black Male      0         0           \n",
       "5 Prof-specialty    Wife          Black Female    0         0           \n",
       "6 Exec-managerial   Wife          White Female    0         0           \n",
       "  hours_per_week native_country income\n",
       "1 40             United-States  <=50K \n",
       "2 13             United-States  <=50K \n",
       "3 40             United-States  <=50K \n",
       "4 40             United-States  <=50K \n",
       "5 40             Cuba           <=50K \n",
       "6 40             United-States  <=50K "
      ]
     },
     "metadata": {},
     "output_type": "display_data"
    }
   ],
   "source": [
    "male_or_female <- adult_data %>%\n",
    "  filter(str_detect(sex, \"[MF]\"))\n",
    "head(male_or_female)"
   ]
  },
  {
   "cell_type": "markdown",
   "id": "a701ea4b-c7bb-4224-aeac-8a07de17991a",
   "metadata": {
    "tags": []
   },
   "source": [
    "## Excluded character set defined inside [^]"
   ]
  },
  {
   "cell_type": "markdown",
   "id": "f09f30f7-1f36-4ea0-ab88-f1c635e7aaeb",
   "metadata": {
    "tags": []
   },
   "source": [
    "It extracts rows where workclass does not contain any digits"
   ]
  },
  {
   "cell_type": "code",
   "execution_count": 14,
   "id": "1fa54813-61e2-4d13-978b-9459b46e7fac",
   "metadata": {
    "tags": []
   },
   "outputs": [
    {
     "data": {
      "text/html": [
       "<table class=\"dataframe\">\n",
       "<caption>A data.table: 6 × 15</caption>\n",
       "<thead>\n",
       "\t<tr><th scope=col>age</th><th scope=col>workclass</th><th scope=col>fnlwgt</th><th scope=col>education</th><th scope=col>education_num</th><th scope=col>marital_status</th><th scope=col>occupation</th><th scope=col>relationship</th><th scope=col>race</th><th scope=col>sex</th><th scope=col>capital_gain</th><th scope=col>capital_loss</th><th scope=col>hours_per_week</th><th scope=col>native_country</th><th scope=col>income</th></tr>\n",
       "\t<tr><th scope=col>&lt;int&gt;</th><th scope=col>&lt;chr&gt;</th><th scope=col>&lt;int&gt;</th><th scope=col>&lt;chr&gt;</th><th scope=col>&lt;int&gt;</th><th scope=col>&lt;chr&gt;</th><th scope=col>&lt;chr&gt;</th><th scope=col>&lt;chr&gt;</th><th scope=col>&lt;chr&gt;</th><th scope=col>&lt;chr&gt;</th><th scope=col>&lt;int&gt;</th><th scope=col>&lt;int&gt;</th><th scope=col>&lt;int&gt;</th><th scope=col>&lt;chr&gt;</th><th scope=col>&lt;chr&gt;</th></tr>\n",
       "</thead>\n",
       "<tbody>\n",
       "\t<tr><td>39</td><td><span style=white-space:pre-wrap>State-gov       </span></td><td> 77516</td><td>Bachelors</td><td>13</td><td><span style=white-space:pre-wrap>Never-married     </span></td><td><span style=white-space:pre-wrap>Adm-clerical     </span></td><td>Not-in-family</td><td>White</td><td><span style=white-space:pre-wrap>Male  </span></td><td>2174</td><td>0</td><td>40</td><td>United-States</td><td>&lt;=50K</td></tr>\n",
       "\t<tr><td>50</td><td>Self-emp-not-inc</td><td> 83311</td><td>Bachelors</td><td>13</td><td>Married-civ-spouse</td><td><span style=white-space:pre-wrap>Exec-managerial  </span></td><td><span style=white-space:pre-wrap>Husband      </span></td><td>White</td><td><span style=white-space:pre-wrap>Male  </span></td><td><span style=white-space:pre-wrap>   0</span></td><td>0</td><td>13</td><td>United-States</td><td>&lt;=50K</td></tr>\n",
       "\t<tr><td>38</td><td><span style=white-space:pre-wrap>Private         </span></td><td>215646</td><td><span style=white-space:pre-wrap>HS-grad  </span></td><td> 9</td><td><span style=white-space:pre-wrap>Divorced          </span></td><td>Handlers-cleaners</td><td>Not-in-family</td><td>White</td><td><span style=white-space:pre-wrap>Male  </span></td><td><span style=white-space:pre-wrap>   0</span></td><td>0</td><td>40</td><td>United-States</td><td>&lt;=50K</td></tr>\n",
       "\t<tr><td>53</td><td><span style=white-space:pre-wrap>Private         </span></td><td>234721</td><td><span style=white-space:pre-wrap>11th     </span></td><td> 7</td><td>Married-civ-spouse</td><td>Handlers-cleaners</td><td><span style=white-space:pre-wrap>Husband      </span></td><td>Black</td><td><span style=white-space:pre-wrap>Male  </span></td><td><span style=white-space:pre-wrap>   0</span></td><td>0</td><td>40</td><td>United-States</td><td>&lt;=50K</td></tr>\n",
       "\t<tr><td>28</td><td><span style=white-space:pre-wrap>Private         </span></td><td>338409</td><td>Bachelors</td><td>13</td><td>Married-civ-spouse</td><td><span style=white-space:pre-wrap>Prof-specialty   </span></td><td><span style=white-space:pre-wrap>Wife         </span></td><td>Black</td><td>Female</td><td><span style=white-space:pre-wrap>   0</span></td><td>0</td><td>40</td><td><span style=white-space:pre-wrap>Cuba         </span></td><td>&lt;=50K</td></tr>\n",
       "\t<tr><td>37</td><td><span style=white-space:pre-wrap>Private         </span></td><td>284582</td><td><span style=white-space:pre-wrap>Masters  </span></td><td>14</td><td>Married-civ-spouse</td><td><span style=white-space:pre-wrap>Exec-managerial  </span></td><td><span style=white-space:pre-wrap>Wife         </span></td><td>White</td><td>Female</td><td><span style=white-space:pre-wrap>   0</span></td><td>0</td><td>40</td><td>United-States</td><td>&lt;=50K</td></tr>\n",
       "</tbody>\n",
       "</table>\n"
      ],
      "text/latex": [
       "A data.table: 6 × 15\n",
       "\\begin{tabular}{lllllllllllllll}\n",
       " age & workclass & fnlwgt & education & education\\_num & marital\\_status & occupation & relationship & race & sex & capital\\_gain & capital\\_loss & hours\\_per\\_week & native\\_country & income\\\\\n",
       " <int> & <chr> & <int> & <chr> & <int> & <chr> & <chr> & <chr> & <chr> & <chr> & <int> & <int> & <int> & <chr> & <chr>\\\\\n",
       "\\hline\n",
       "\t 39 & State-gov        &  77516 & Bachelors & 13 & Never-married      & Adm-clerical      & Not-in-family & White & Male   & 2174 & 0 & 40 & United-States & <=50K\\\\\n",
       "\t 50 & Self-emp-not-inc &  83311 & Bachelors & 13 & Married-civ-spouse & Exec-managerial   & Husband       & White & Male   &    0 & 0 & 13 & United-States & <=50K\\\\\n",
       "\t 38 & Private          & 215646 & HS-grad   &  9 & Divorced           & Handlers-cleaners & Not-in-family & White & Male   &    0 & 0 & 40 & United-States & <=50K\\\\\n",
       "\t 53 & Private          & 234721 & 11th      &  7 & Married-civ-spouse & Handlers-cleaners & Husband       & Black & Male   &    0 & 0 & 40 & United-States & <=50K\\\\\n",
       "\t 28 & Private          & 338409 & Bachelors & 13 & Married-civ-spouse & Prof-specialty    & Wife          & Black & Female &    0 & 0 & 40 & Cuba          & <=50K\\\\\n",
       "\t 37 & Private          & 284582 & Masters   & 14 & Married-civ-spouse & Exec-managerial   & Wife          & White & Female &    0 & 0 & 40 & United-States & <=50K\\\\\n",
       "\\end{tabular}\n"
      ],
      "text/markdown": [
       "\n",
       "A data.table: 6 × 15\n",
       "\n",
       "| age &lt;int&gt; | workclass &lt;chr&gt; | fnlwgt &lt;int&gt; | education &lt;chr&gt; | education_num &lt;int&gt; | marital_status &lt;chr&gt; | occupation &lt;chr&gt; | relationship &lt;chr&gt; | race &lt;chr&gt; | sex &lt;chr&gt; | capital_gain &lt;int&gt; | capital_loss &lt;int&gt; | hours_per_week &lt;int&gt; | native_country &lt;chr&gt; | income &lt;chr&gt; |\n",
       "|---|---|---|---|---|---|---|---|---|---|---|---|---|---|---|\n",
       "| 39 | State-gov        |  77516 | Bachelors | 13 | Never-married      | Adm-clerical      | Not-in-family | White | Male   | 2174 | 0 | 40 | United-States | &lt;=50K |\n",
       "| 50 | Self-emp-not-inc |  83311 | Bachelors | 13 | Married-civ-spouse | Exec-managerial   | Husband       | White | Male   |    0 | 0 | 13 | United-States | &lt;=50K |\n",
       "| 38 | Private          | 215646 | HS-grad   |  9 | Divorced           | Handlers-cleaners | Not-in-family | White | Male   |    0 | 0 | 40 | United-States | &lt;=50K |\n",
       "| 53 | Private          | 234721 | 11th      |  7 | Married-civ-spouse | Handlers-cleaners | Husband       | Black | Male   |    0 | 0 | 40 | United-States | &lt;=50K |\n",
       "| 28 | Private          | 338409 | Bachelors | 13 | Married-civ-spouse | Prof-specialty    | Wife          | Black | Female |    0 | 0 | 40 | Cuba          | &lt;=50K |\n",
       "| 37 | Private          | 284582 | Masters   | 14 | Married-civ-spouse | Exec-managerial   | Wife          | White | Female |    0 | 0 | 40 | United-States | &lt;=50K |\n",
       "\n"
      ],
      "text/plain": [
       "  age workclass        fnlwgt education education_num marital_status    \n",
       "1 39  State-gov         77516 Bachelors 13            Never-married     \n",
       "2 50  Self-emp-not-inc  83311 Bachelors 13            Married-civ-spouse\n",
       "3 38  Private          215646 HS-grad    9            Divorced          \n",
       "4 53  Private          234721 11th       7            Married-civ-spouse\n",
       "5 28  Private          338409 Bachelors 13            Married-civ-spouse\n",
       "6 37  Private          284582 Masters   14            Married-civ-spouse\n",
       "  occupation        relationship  race  sex    capital_gain capital_loss\n",
       "1 Adm-clerical      Not-in-family White Male   2174         0           \n",
       "2 Exec-managerial   Husband       White Male      0         0           \n",
       "3 Handlers-cleaners Not-in-family White Male      0         0           \n",
       "4 Handlers-cleaners Husband       Black Male      0         0           \n",
       "5 Prof-specialty    Wife          Black Female    0         0           \n",
       "6 Exec-managerial   Wife          White Female    0         0           \n",
       "  hours_per_week native_country income\n",
       "1 40             United-States  <=50K \n",
       "2 13             United-States  <=50K \n",
       "3 40             United-States  <=50K \n",
       "4 40             United-States  <=50K \n",
       "5 40             Cuba           <=50K \n",
       "6 40             United-States  <=50K "
      ]
     },
     "metadata": {},
     "output_type": "display_data"
    }
   ],
   "source": [
    "no_digits_workclass <- adult_data %>%\n",
    "  filter(str_detect(workclass, \"[^\\\\d]+\"))\n",
    "head(no_digits_workclass)"
   ]
  },
  {
   "cell_type": "markdown",
   "id": "8f0b0746-7cbe-4f7f-9367-01b2a0cf1d0e",
   "metadata": {
    "tags": []
   },
   "source": [
    "## ^ anchor"
   ]
  },
  {
   "cell_type": "markdown",
   "id": "07f19673-18a3-44e5-8c81-28f4d0b0fd56",
   "metadata": {
    "tags": []
   },
   "source": [
    "It extracts rows where education starts with \"B,\" filtering for educational levels that begin with this letter, such as \"Bachelors.\""
   ]
  },
  {
   "cell_type": "code",
   "execution_count": 15,
   "id": "01884833-7446-498c-b6d5-98f3033fda8b",
   "metadata": {
    "tags": []
   },
   "outputs": [
    {
     "data": {
      "text/html": [
       "<table class=\"dataframe\">\n",
       "<caption>A data.table: 6 × 15</caption>\n",
       "<thead>\n",
       "\t<tr><th scope=col>age</th><th scope=col>workclass</th><th scope=col>fnlwgt</th><th scope=col>education</th><th scope=col>education_num</th><th scope=col>marital_status</th><th scope=col>occupation</th><th scope=col>relationship</th><th scope=col>race</th><th scope=col>sex</th><th scope=col>capital_gain</th><th scope=col>capital_loss</th><th scope=col>hours_per_week</th><th scope=col>native_country</th><th scope=col>income</th></tr>\n",
       "\t<tr><th scope=col>&lt;int&gt;</th><th scope=col>&lt;chr&gt;</th><th scope=col>&lt;int&gt;</th><th scope=col>&lt;chr&gt;</th><th scope=col>&lt;int&gt;</th><th scope=col>&lt;chr&gt;</th><th scope=col>&lt;chr&gt;</th><th scope=col>&lt;chr&gt;</th><th scope=col>&lt;chr&gt;</th><th scope=col>&lt;chr&gt;</th><th scope=col>&lt;int&gt;</th><th scope=col>&lt;int&gt;</th><th scope=col>&lt;int&gt;</th><th scope=col>&lt;chr&gt;</th><th scope=col>&lt;chr&gt;</th></tr>\n",
       "</thead>\n",
       "<tbody>\n",
       "\t<tr><td>39</td><td><span style=white-space:pre-wrap>State-gov       </span></td><td> 77516</td><td>Bachelors</td><td>13</td><td><span style=white-space:pre-wrap>Never-married     </span></td><td><span style=white-space:pre-wrap>Adm-clerical   </span></td><td>Not-in-family</td><td><span style=white-space:pre-wrap>White             </span></td><td><span style=white-space:pre-wrap>Male  </span></td><td>2174</td><td>0</td><td>40</td><td>United-States</td><td>&lt;=50K</td></tr>\n",
       "\t<tr><td>50</td><td>Self-emp-not-inc</td><td> 83311</td><td>Bachelors</td><td>13</td><td>Married-civ-spouse</td><td>Exec-managerial</td><td><span style=white-space:pre-wrap>Husband      </span></td><td><span style=white-space:pre-wrap>White             </span></td><td><span style=white-space:pre-wrap>Male  </span></td><td><span style=white-space:pre-wrap>   0</span></td><td>0</td><td>13</td><td>United-States</td><td>&lt;=50K</td></tr>\n",
       "\t<tr><td>28</td><td><span style=white-space:pre-wrap>Private         </span></td><td>338409</td><td>Bachelors</td><td>13</td><td>Married-civ-spouse</td><td>Prof-specialty </td><td><span style=white-space:pre-wrap>Wife         </span></td><td><span style=white-space:pre-wrap>Black             </span></td><td>Female</td><td><span style=white-space:pre-wrap>   0</span></td><td>0</td><td>40</td><td><span style=white-space:pre-wrap>Cuba         </span></td><td>&lt;=50K</td></tr>\n",
       "\t<tr><td>42</td><td><span style=white-space:pre-wrap>Private         </span></td><td>159449</td><td>Bachelors</td><td>13</td><td>Married-civ-spouse</td><td>Exec-managerial</td><td><span style=white-space:pre-wrap>Husband      </span></td><td><span style=white-space:pre-wrap>White             </span></td><td><span style=white-space:pre-wrap>Male  </span></td><td>5178</td><td>0</td><td>40</td><td>United-States</td><td>&gt;50K </td></tr>\n",
       "\t<tr><td>30</td><td><span style=white-space:pre-wrap>State-gov       </span></td><td>141297</td><td>Bachelors</td><td>13</td><td>Married-civ-spouse</td><td>Prof-specialty </td><td><span style=white-space:pre-wrap>Husband      </span></td><td>Asian-Pac-Islander</td><td><span style=white-space:pre-wrap>Male  </span></td><td><span style=white-space:pre-wrap>   0</span></td><td>0</td><td>40</td><td><span style=white-space:pre-wrap>India        </span></td><td>&gt;50K </td></tr>\n",
       "\t<tr><td>23</td><td><span style=white-space:pre-wrap>Private         </span></td><td>122272</td><td>Bachelors</td><td>13</td><td><span style=white-space:pre-wrap>Never-married     </span></td><td><span style=white-space:pre-wrap>Adm-clerical   </span></td><td><span style=white-space:pre-wrap>Own-child    </span></td><td><span style=white-space:pre-wrap>White             </span></td><td>Female</td><td><span style=white-space:pre-wrap>   0</span></td><td>0</td><td>30</td><td>United-States</td><td>&lt;=50K</td></tr>\n",
       "</tbody>\n",
       "</table>\n"
      ],
      "text/latex": [
       "A data.table: 6 × 15\n",
       "\\begin{tabular}{lllllllllllllll}\n",
       " age & workclass & fnlwgt & education & education\\_num & marital\\_status & occupation & relationship & race & sex & capital\\_gain & capital\\_loss & hours\\_per\\_week & native\\_country & income\\\\\n",
       " <int> & <chr> & <int> & <chr> & <int> & <chr> & <chr> & <chr> & <chr> & <chr> & <int> & <int> & <int> & <chr> & <chr>\\\\\n",
       "\\hline\n",
       "\t 39 & State-gov        &  77516 & Bachelors & 13 & Never-married      & Adm-clerical    & Not-in-family & White              & Male   & 2174 & 0 & 40 & United-States & <=50K\\\\\n",
       "\t 50 & Self-emp-not-inc &  83311 & Bachelors & 13 & Married-civ-spouse & Exec-managerial & Husband       & White              & Male   &    0 & 0 & 13 & United-States & <=50K\\\\\n",
       "\t 28 & Private          & 338409 & Bachelors & 13 & Married-civ-spouse & Prof-specialty  & Wife          & Black              & Female &    0 & 0 & 40 & Cuba          & <=50K\\\\\n",
       "\t 42 & Private          & 159449 & Bachelors & 13 & Married-civ-spouse & Exec-managerial & Husband       & White              & Male   & 5178 & 0 & 40 & United-States & >50K \\\\\n",
       "\t 30 & State-gov        & 141297 & Bachelors & 13 & Married-civ-spouse & Prof-specialty  & Husband       & Asian-Pac-Islander & Male   &    0 & 0 & 40 & India         & >50K \\\\\n",
       "\t 23 & Private          & 122272 & Bachelors & 13 & Never-married      & Adm-clerical    & Own-child     & White              & Female &    0 & 0 & 30 & United-States & <=50K\\\\\n",
       "\\end{tabular}\n"
      ],
      "text/markdown": [
       "\n",
       "A data.table: 6 × 15\n",
       "\n",
       "| age &lt;int&gt; | workclass &lt;chr&gt; | fnlwgt &lt;int&gt; | education &lt;chr&gt; | education_num &lt;int&gt; | marital_status &lt;chr&gt; | occupation &lt;chr&gt; | relationship &lt;chr&gt; | race &lt;chr&gt; | sex &lt;chr&gt; | capital_gain &lt;int&gt; | capital_loss &lt;int&gt; | hours_per_week &lt;int&gt; | native_country &lt;chr&gt; | income &lt;chr&gt; |\n",
       "|---|---|---|---|---|---|---|---|---|---|---|---|---|---|---|\n",
       "| 39 | State-gov        |  77516 | Bachelors | 13 | Never-married      | Adm-clerical    | Not-in-family | White              | Male   | 2174 | 0 | 40 | United-States | &lt;=50K |\n",
       "| 50 | Self-emp-not-inc |  83311 | Bachelors | 13 | Married-civ-spouse | Exec-managerial | Husband       | White              | Male   |    0 | 0 | 13 | United-States | &lt;=50K |\n",
       "| 28 | Private          | 338409 | Bachelors | 13 | Married-civ-spouse | Prof-specialty  | Wife          | Black              | Female |    0 | 0 | 40 | Cuba          | &lt;=50K |\n",
       "| 42 | Private          | 159449 | Bachelors | 13 | Married-civ-spouse | Exec-managerial | Husband       | White              | Male   | 5178 | 0 | 40 | United-States | &gt;50K  |\n",
       "| 30 | State-gov        | 141297 | Bachelors | 13 | Married-civ-spouse | Prof-specialty  | Husband       | Asian-Pac-Islander | Male   |    0 | 0 | 40 | India         | &gt;50K  |\n",
       "| 23 | Private          | 122272 | Bachelors | 13 | Never-married      | Adm-clerical    | Own-child     | White              | Female |    0 | 0 | 30 | United-States | &lt;=50K |\n",
       "\n"
      ],
      "text/plain": [
       "  age workclass        fnlwgt education education_num marital_status    \n",
       "1 39  State-gov         77516 Bachelors 13            Never-married     \n",
       "2 50  Self-emp-not-inc  83311 Bachelors 13            Married-civ-spouse\n",
       "3 28  Private          338409 Bachelors 13            Married-civ-spouse\n",
       "4 42  Private          159449 Bachelors 13            Married-civ-spouse\n",
       "5 30  State-gov        141297 Bachelors 13            Married-civ-spouse\n",
       "6 23  Private          122272 Bachelors 13            Never-married     \n",
       "  occupation      relationship  race               sex    capital_gain\n",
       "1 Adm-clerical    Not-in-family White              Male   2174        \n",
       "2 Exec-managerial Husband       White              Male      0        \n",
       "3 Prof-specialty  Wife          Black              Female    0        \n",
       "4 Exec-managerial Husband       White              Male   5178        \n",
       "5 Prof-specialty  Husband       Asian-Pac-Islander Male      0        \n",
       "6 Adm-clerical    Own-child     White              Female    0        \n",
       "  capital_loss hours_per_week native_country income\n",
       "1 0            40             United-States  <=50K \n",
       "2 0            13             United-States  <=50K \n",
       "3 0            40             Cuba           <=50K \n",
       "4 0            40             United-States  >50K  \n",
       "5 0            40             India          >50K  \n",
       "6 0            30             United-States  <=50K "
      ]
     },
     "metadata": {},
     "output_type": "display_data"
    }
   ],
   "source": [
    "bachelor_education <- adult_data %>%\n",
    "  filter(str_detect(education, \"^B\"))\n",
    "head(bachelor_education)"
   ]
  },
  {
   "cell_type": "markdown",
   "id": "6079ccbf-2dfb-4171-9c0e-e7b90a0fe99b",
   "metadata": {
    "tags": []
   },
   "source": [
    "## $ anchor"
   ]
  },
  {
   "cell_type": "markdown",
   "id": "789da33f-ff33-4f90-801e-320cf0f18f24",
   "metadata": {
    "tags": []
   },
   "source": [
    "It extracts rows where marital_status ends with \"married\""
   ]
  },
  {
   "cell_type": "code",
   "execution_count": 16,
   "id": "9a96dfee-e80f-429a-87b5-149f5c3f0aa3",
   "metadata": {
    "tags": []
   },
   "outputs": [
    {
     "data": {
      "text/html": [
       "<table class=\"dataframe\">\n",
       "<caption>A data.table: 6 × 15</caption>\n",
       "<thead>\n",
       "\t<tr><th scope=col>age</th><th scope=col>workclass</th><th scope=col>fnlwgt</th><th scope=col>education</th><th scope=col>education_num</th><th scope=col>marital_status</th><th scope=col>occupation</th><th scope=col>relationship</th><th scope=col>race</th><th scope=col>sex</th><th scope=col>capital_gain</th><th scope=col>capital_loss</th><th scope=col>hours_per_week</th><th scope=col>native_country</th><th scope=col>income</th></tr>\n",
       "\t<tr><th scope=col>&lt;int&gt;</th><th scope=col>&lt;chr&gt;</th><th scope=col>&lt;int&gt;</th><th scope=col>&lt;chr&gt;</th><th scope=col>&lt;int&gt;</th><th scope=col>&lt;chr&gt;</th><th scope=col>&lt;chr&gt;</th><th scope=col>&lt;chr&gt;</th><th scope=col>&lt;chr&gt;</th><th scope=col>&lt;chr&gt;</th><th scope=col>&lt;int&gt;</th><th scope=col>&lt;int&gt;</th><th scope=col>&lt;int&gt;</th><th scope=col>&lt;chr&gt;</th><th scope=col>&lt;chr&gt;</th></tr>\n",
       "</thead>\n",
       "<tbody>\n",
       "\t<tr><td>39</td><td><span style=white-space:pre-wrap>State-gov       </span></td><td> 77516</td><td>Bachelors </td><td>13</td><td>Never-married</td><td><span style=white-space:pre-wrap>Adm-clerical     </span></td><td>Not-in-family</td><td>White</td><td><span style=white-space:pre-wrap>Male  </span></td><td> 2174</td><td>0</td><td>40</td><td>United-States</td><td>&lt;=50K</td></tr>\n",
       "\t<tr><td>31</td><td><span style=white-space:pre-wrap>Private         </span></td><td> 45781</td><td><span style=white-space:pre-wrap>Masters   </span></td><td>14</td><td>Never-married</td><td><span style=white-space:pre-wrap>Prof-specialty   </span></td><td>Not-in-family</td><td>White</td><td>Female</td><td>14084</td><td>0</td><td>50</td><td>United-States</td><td>&gt;50K </td></tr>\n",
       "\t<tr><td>23</td><td><span style=white-space:pre-wrap>Private         </span></td><td>122272</td><td>Bachelors </td><td>13</td><td>Never-married</td><td><span style=white-space:pre-wrap>Adm-clerical     </span></td><td><span style=white-space:pre-wrap>Own-child    </span></td><td>White</td><td>Female</td><td><span style=white-space:pre-wrap>    0</span></td><td>0</td><td>30</td><td>United-States</td><td>&lt;=50K</td></tr>\n",
       "\t<tr><td>32</td><td><span style=white-space:pre-wrap>Private         </span></td><td>205019</td><td>Assoc-acdm</td><td>12</td><td>Never-married</td><td><span style=white-space:pre-wrap>Sales            </span></td><td>Not-in-family</td><td>Black</td><td><span style=white-space:pre-wrap>Male  </span></td><td><span style=white-space:pre-wrap>    0</span></td><td>0</td><td>50</td><td>United-States</td><td>&lt;=50K</td></tr>\n",
       "\t<tr><td>25</td><td>Self-emp-not-inc</td><td>176756</td><td><span style=white-space:pre-wrap>HS-grad   </span></td><td> 9</td><td>Never-married</td><td><span style=white-space:pre-wrap>Farming-fishing  </span></td><td><span style=white-space:pre-wrap>Own-child    </span></td><td>White</td><td><span style=white-space:pre-wrap>Male  </span></td><td><span style=white-space:pre-wrap>    0</span></td><td>0</td><td>35</td><td>United-States</td><td>&lt;=50K</td></tr>\n",
       "\t<tr><td>32</td><td><span style=white-space:pre-wrap>Private         </span></td><td>186824</td><td><span style=white-space:pre-wrap>HS-grad   </span></td><td> 9</td><td>Never-married</td><td>Machine-op-inspct</td><td><span style=white-space:pre-wrap>Unmarried    </span></td><td>White</td><td><span style=white-space:pre-wrap>Male  </span></td><td><span style=white-space:pre-wrap>    0</span></td><td>0</td><td>40</td><td>United-States</td><td>&lt;=50K</td></tr>\n",
       "</tbody>\n",
       "</table>\n"
      ],
      "text/latex": [
       "A data.table: 6 × 15\n",
       "\\begin{tabular}{lllllllllllllll}\n",
       " age & workclass & fnlwgt & education & education\\_num & marital\\_status & occupation & relationship & race & sex & capital\\_gain & capital\\_loss & hours\\_per\\_week & native\\_country & income\\\\\n",
       " <int> & <chr> & <int> & <chr> & <int> & <chr> & <chr> & <chr> & <chr> & <chr> & <int> & <int> & <int> & <chr> & <chr>\\\\\n",
       "\\hline\n",
       "\t 39 & State-gov        &  77516 & Bachelors  & 13 & Never-married & Adm-clerical      & Not-in-family & White & Male   &  2174 & 0 & 40 & United-States & <=50K\\\\\n",
       "\t 31 & Private          &  45781 & Masters    & 14 & Never-married & Prof-specialty    & Not-in-family & White & Female & 14084 & 0 & 50 & United-States & >50K \\\\\n",
       "\t 23 & Private          & 122272 & Bachelors  & 13 & Never-married & Adm-clerical      & Own-child     & White & Female &     0 & 0 & 30 & United-States & <=50K\\\\\n",
       "\t 32 & Private          & 205019 & Assoc-acdm & 12 & Never-married & Sales             & Not-in-family & Black & Male   &     0 & 0 & 50 & United-States & <=50K\\\\\n",
       "\t 25 & Self-emp-not-inc & 176756 & HS-grad    &  9 & Never-married & Farming-fishing   & Own-child     & White & Male   &     0 & 0 & 35 & United-States & <=50K\\\\\n",
       "\t 32 & Private          & 186824 & HS-grad    &  9 & Never-married & Machine-op-inspct & Unmarried     & White & Male   &     0 & 0 & 40 & United-States & <=50K\\\\\n",
       "\\end{tabular}\n"
      ],
      "text/markdown": [
       "\n",
       "A data.table: 6 × 15\n",
       "\n",
       "| age &lt;int&gt; | workclass &lt;chr&gt; | fnlwgt &lt;int&gt; | education &lt;chr&gt; | education_num &lt;int&gt; | marital_status &lt;chr&gt; | occupation &lt;chr&gt; | relationship &lt;chr&gt; | race &lt;chr&gt; | sex &lt;chr&gt; | capital_gain &lt;int&gt; | capital_loss &lt;int&gt; | hours_per_week &lt;int&gt; | native_country &lt;chr&gt; | income &lt;chr&gt; |\n",
       "|---|---|---|---|---|---|---|---|---|---|---|---|---|---|---|\n",
       "| 39 | State-gov        |  77516 | Bachelors  | 13 | Never-married | Adm-clerical      | Not-in-family | White | Male   |  2174 | 0 | 40 | United-States | &lt;=50K |\n",
       "| 31 | Private          |  45781 | Masters    | 14 | Never-married | Prof-specialty    | Not-in-family | White | Female | 14084 | 0 | 50 | United-States | &gt;50K  |\n",
       "| 23 | Private          | 122272 | Bachelors  | 13 | Never-married | Adm-clerical      | Own-child     | White | Female |     0 | 0 | 30 | United-States | &lt;=50K |\n",
       "| 32 | Private          | 205019 | Assoc-acdm | 12 | Never-married | Sales             | Not-in-family | Black | Male   |     0 | 0 | 50 | United-States | &lt;=50K |\n",
       "| 25 | Self-emp-not-inc | 176756 | HS-grad    |  9 | Never-married | Farming-fishing   | Own-child     | White | Male   |     0 | 0 | 35 | United-States | &lt;=50K |\n",
       "| 32 | Private          | 186824 | HS-grad    |  9 | Never-married | Machine-op-inspct | Unmarried     | White | Male   |     0 | 0 | 40 | United-States | &lt;=50K |\n",
       "\n"
      ],
      "text/plain": [
       "  age workclass        fnlwgt education  education_num marital_status\n",
       "1 39  State-gov         77516 Bachelors  13            Never-married \n",
       "2 31  Private           45781 Masters    14            Never-married \n",
       "3 23  Private          122272 Bachelors  13            Never-married \n",
       "4 32  Private          205019 Assoc-acdm 12            Never-married \n",
       "5 25  Self-emp-not-inc 176756 HS-grad     9            Never-married \n",
       "6 32  Private          186824 HS-grad     9            Never-married \n",
       "  occupation        relationship  race  sex    capital_gain capital_loss\n",
       "1 Adm-clerical      Not-in-family White Male    2174        0           \n",
       "2 Prof-specialty    Not-in-family White Female 14084        0           \n",
       "3 Adm-clerical      Own-child     White Female     0        0           \n",
       "4 Sales             Not-in-family Black Male       0        0           \n",
       "5 Farming-fishing   Own-child     White Male       0        0           \n",
       "6 Machine-op-inspct Unmarried     White Male       0        0           \n",
       "  hours_per_week native_country income\n",
       "1 40             United-States  <=50K \n",
       "2 50             United-States  >50K  \n",
       "3 30             United-States  <=50K \n",
       "4 50             United-States  <=50K \n",
       "5 35             United-States  <=50K \n",
       "6 40             United-States  <=50K "
      ]
     },
     "metadata": {},
     "output_type": "display_data"
    }
   ],
   "source": [
    "married_status <- adult_data %>%\n",
    "  filter(str_detect(marital_status, \"married$\"))\n",
    "head(married_status)"
   ]
  },
  {
   "cell_type": "markdown",
   "id": "3af43118-1dcb-4d72-b562-325ea748d61c",
   "metadata": {
    "tags": []
   },
   "source": [
    "## | alternation"
   ]
  },
  {
   "cell_type": "markdown",
   "id": "d6751d77-eb6e-4ef3-b9ea-770c8e80c978",
   "metadata": {
    "tags": []
   },
   "source": [
    "It extracts rows where race is either \"White\" or \"Black\""
   ]
  },
  {
   "cell_type": "code",
   "execution_count": 17,
   "id": "327143f5-e095-4268-be7d-cec1f0cc7f81",
   "metadata": {
    "tags": []
   },
   "outputs": [
    {
     "data": {
      "text/html": [
       "<table class=\"dataframe\">\n",
       "<caption>A data.table: 6 × 15</caption>\n",
       "<thead>\n",
       "\t<tr><th scope=col>age</th><th scope=col>workclass</th><th scope=col>fnlwgt</th><th scope=col>education</th><th scope=col>education_num</th><th scope=col>marital_status</th><th scope=col>occupation</th><th scope=col>relationship</th><th scope=col>race</th><th scope=col>sex</th><th scope=col>capital_gain</th><th scope=col>capital_loss</th><th scope=col>hours_per_week</th><th scope=col>native_country</th><th scope=col>income</th></tr>\n",
       "\t<tr><th scope=col>&lt;int&gt;</th><th scope=col>&lt;chr&gt;</th><th scope=col>&lt;int&gt;</th><th scope=col>&lt;chr&gt;</th><th scope=col>&lt;int&gt;</th><th scope=col>&lt;chr&gt;</th><th scope=col>&lt;chr&gt;</th><th scope=col>&lt;chr&gt;</th><th scope=col>&lt;chr&gt;</th><th scope=col>&lt;chr&gt;</th><th scope=col>&lt;int&gt;</th><th scope=col>&lt;int&gt;</th><th scope=col>&lt;int&gt;</th><th scope=col>&lt;chr&gt;</th><th scope=col>&lt;chr&gt;</th></tr>\n",
       "</thead>\n",
       "<tbody>\n",
       "\t<tr><td>39</td><td><span style=white-space:pre-wrap>State-gov       </span></td><td> 77516</td><td>Bachelors</td><td>13</td><td><span style=white-space:pre-wrap>Never-married     </span></td><td><span style=white-space:pre-wrap>Adm-clerical     </span></td><td>Not-in-family</td><td>White</td><td><span style=white-space:pre-wrap>Male  </span></td><td>2174</td><td>0</td><td>40</td><td>United-States</td><td>&lt;=50K</td></tr>\n",
       "\t<tr><td>50</td><td>Self-emp-not-inc</td><td> 83311</td><td>Bachelors</td><td>13</td><td>Married-civ-spouse</td><td><span style=white-space:pre-wrap>Exec-managerial  </span></td><td><span style=white-space:pre-wrap>Husband      </span></td><td>White</td><td><span style=white-space:pre-wrap>Male  </span></td><td><span style=white-space:pre-wrap>   0</span></td><td>0</td><td>13</td><td>United-States</td><td>&lt;=50K</td></tr>\n",
       "\t<tr><td>38</td><td><span style=white-space:pre-wrap>Private         </span></td><td>215646</td><td><span style=white-space:pre-wrap>HS-grad  </span></td><td> 9</td><td><span style=white-space:pre-wrap>Divorced          </span></td><td>Handlers-cleaners</td><td>Not-in-family</td><td>White</td><td><span style=white-space:pre-wrap>Male  </span></td><td><span style=white-space:pre-wrap>   0</span></td><td>0</td><td>40</td><td>United-States</td><td>&lt;=50K</td></tr>\n",
       "\t<tr><td>53</td><td><span style=white-space:pre-wrap>Private         </span></td><td>234721</td><td><span style=white-space:pre-wrap>11th     </span></td><td> 7</td><td>Married-civ-spouse</td><td>Handlers-cleaners</td><td><span style=white-space:pre-wrap>Husband      </span></td><td>Black</td><td><span style=white-space:pre-wrap>Male  </span></td><td><span style=white-space:pre-wrap>   0</span></td><td>0</td><td>40</td><td>United-States</td><td>&lt;=50K</td></tr>\n",
       "\t<tr><td>28</td><td><span style=white-space:pre-wrap>Private         </span></td><td>338409</td><td>Bachelors</td><td>13</td><td>Married-civ-spouse</td><td><span style=white-space:pre-wrap>Prof-specialty   </span></td><td><span style=white-space:pre-wrap>Wife         </span></td><td>Black</td><td>Female</td><td><span style=white-space:pre-wrap>   0</span></td><td>0</td><td>40</td><td><span style=white-space:pre-wrap>Cuba         </span></td><td>&lt;=50K</td></tr>\n",
       "\t<tr><td>37</td><td><span style=white-space:pre-wrap>Private         </span></td><td>284582</td><td><span style=white-space:pre-wrap>Masters  </span></td><td>14</td><td>Married-civ-spouse</td><td><span style=white-space:pre-wrap>Exec-managerial  </span></td><td><span style=white-space:pre-wrap>Wife         </span></td><td>White</td><td>Female</td><td><span style=white-space:pre-wrap>   0</span></td><td>0</td><td>40</td><td>United-States</td><td>&lt;=50K</td></tr>\n",
       "</tbody>\n",
       "</table>\n"
      ],
      "text/latex": [
       "A data.table: 6 × 15\n",
       "\\begin{tabular}{lllllllllllllll}\n",
       " age & workclass & fnlwgt & education & education\\_num & marital\\_status & occupation & relationship & race & sex & capital\\_gain & capital\\_loss & hours\\_per\\_week & native\\_country & income\\\\\n",
       " <int> & <chr> & <int> & <chr> & <int> & <chr> & <chr> & <chr> & <chr> & <chr> & <int> & <int> & <int> & <chr> & <chr>\\\\\n",
       "\\hline\n",
       "\t 39 & State-gov        &  77516 & Bachelors & 13 & Never-married      & Adm-clerical      & Not-in-family & White & Male   & 2174 & 0 & 40 & United-States & <=50K\\\\\n",
       "\t 50 & Self-emp-not-inc &  83311 & Bachelors & 13 & Married-civ-spouse & Exec-managerial   & Husband       & White & Male   &    0 & 0 & 13 & United-States & <=50K\\\\\n",
       "\t 38 & Private          & 215646 & HS-grad   &  9 & Divorced           & Handlers-cleaners & Not-in-family & White & Male   &    0 & 0 & 40 & United-States & <=50K\\\\\n",
       "\t 53 & Private          & 234721 & 11th      &  7 & Married-civ-spouse & Handlers-cleaners & Husband       & Black & Male   &    0 & 0 & 40 & United-States & <=50K\\\\\n",
       "\t 28 & Private          & 338409 & Bachelors & 13 & Married-civ-spouse & Prof-specialty    & Wife          & Black & Female &    0 & 0 & 40 & Cuba          & <=50K\\\\\n",
       "\t 37 & Private          & 284582 & Masters   & 14 & Married-civ-spouse & Exec-managerial   & Wife          & White & Female &    0 & 0 & 40 & United-States & <=50K\\\\\n",
       "\\end{tabular}\n"
      ],
      "text/markdown": [
       "\n",
       "A data.table: 6 × 15\n",
       "\n",
       "| age &lt;int&gt; | workclass &lt;chr&gt; | fnlwgt &lt;int&gt; | education &lt;chr&gt; | education_num &lt;int&gt; | marital_status &lt;chr&gt; | occupation &lt;chr&gt; | relationship &lt;chr&gt; | race &lt;chr&gt; | sex &lt;chr&gt; | capital_gain &lt;int&gt; | capital_loss &lt;int&gt; | hours_per_week &lt;int&gt; | native_country &lt;chr&gt; | income &lt;chr&gt; |\n",
       "|---|---|---|---|---|---|---|---|---|---|---|---|---|---|---|\n",
       "| 39 | State-gov        |  77516 | Bachelors | 13 | Never-married      | Adm-clerical      | Not-in-family | White | Male   | 2174 | 0 | 40 | United-States | &lt;=50K |\n",
       "| 50 | Self-emp-not-inc |  83311 | Bachelors | 13 | Married-civ-spouse | Exec-managerial   | Husband       | White | Male   |    0 | 0 | 13 | United-States | &lt;=50K |\n",
       "| 38 | Private          | 215646 | HS-grad   |  9 | Divorced           | Handlers-cleaners | Not-in-family | White | Male   |    0 | 0 | 40 | United-States | &lt;=50K |\n",
       "| 53 | Private          | 234721 | 11th      |  7 | Married-civ-spouse | Handlers-cleaners | Husband       | Black | Male   |    0 | 0 | 40 | United-States | &lt;=50K |\n",
       "| 28 | Private          | 338409 | Bachelors | 13 | Married-civ-spouse | Prof-specialty    | Wife          | Black | Female |    0 | 0 | 40 | Cuba          | &lt;=50K |\n",
       "| 37 | Private          | 284582 | Masters   | 14 | Married-civ-spouse | Exec-managerial   | Wife          | White | Female |    0 | 0 | 40 | United-States | &lt;=50K |\n",
       "\n"
      ],
      "text/plain": [
       "  age workclass        fnlwgt education education_num marital_status    \n",
       "1 39  State-gov         77516 Bachelors 13            Never-married     \n",
       "2 50  Self-emp-not-inc  83311 Bachelors 13            Married-civ-spouse\n",
       "3 38  Private          215646 HS-grad    9            Divorced          \n",
       "4 53  Private          234721 11th       7            Married-civ-spouse\n",
       "5 28  Private          338409 Bachelors 13            Married-civ-spouse\n",
       "6 37  Private          284582 Masters   14            Married-civ-spouse\n",
       "  occupation        relationship  race  sex    capital_gain capital_loss\n",
       "1 Adm-clerical      Not-in-family White Male   2174         0           \n",
       "2 Exec-managerial   Husband       White Male      0         0           \n",
       "3 Handlers-cleaners Not-in-family White Male      0         0           \n",
       "4 Handlers-cleaners Husband       Black Male      0         0           \n",
       "5 Prof-specialty    Wife          Black Female    0         0           \n",
       "6 Exec-managerial   Wife          White Female    0         0           \n",
       "  hours_per_week native_country income\n",
       "1 40             United-States  <=50K \n",
       "2 13             United-States  <=50K \n",
       "3 40             United-States  <=50K \n",
       "4 40             United-States  <=50K \n",
       "5 40             Cuba           <=50K \n",
       "6 40             United-States  <=50K "
      ]
     },
     "metadata": {},
     "output_type": "display_data"
    }
   ],
   "source": [
    "white_or_black <- adult_data %>%\n",
    "  filter(str_detect(race, \"White|Black\"))\n",
    "head(white_or_black)"
   ]
  },
  {
   "cell_type": "markdown",
   "id": "c7f30c75-2d5f-404e-ab84-8bcb1b99b19d",
   "metadata": {
    "tags": []
   },
   "source": [
    "## ?<= positive lookbehind"
   ]
  },
  {
   "cell_type": "markdown",
   "id": "5d9d040a-2a5a-429b-9c31-b6f3ebb88c82",
   "metadata": {
    "tags": []
   },
   "source": [
    "It extracts rows where native_country contains \"United\" followed by any country name"
   ]
  },
  {
   "cell_type": "code",
   "execution_count": 18,
   "id": "da5c0c3d-cad7-4493-9d19-09a90328b2e6",
   "metadata": {
    "tags": []
   },
   "outputs": [
    {
     "data": {
      "text/html": [
       "<table class=\"dataframe\">\n",
       "<caption>A data.table: 0 × 15</caption>\n",
       "<thead>\n",
       "\t<tr><th scope=col>age</th><th scope=col>workclass</th><th scope=col>fnlwgt</th><th scope=col>education</th><th scope=col>education_num</th><th scope=col>marital_status</th><th scope=col>occupation</th><th scope=col>relationship</th><th scope=col>race</th><th scope=col>sex</th><th scope=col>capital_gain</th><th scope=col>capital_loss</th><th scope=col>hours_per_week</th><th scope=col>native_country</th><th scope=col>income</th></tr>\n",
       "\t<tr><th scope=col>&lt;int&gt;</th><th scope=col>&lt;chr&gt;</th><th scope=col>&lt;int&gt;</th><th scope=col>&lt;chr&gt;</th><th scope=col>&lt;int&gt;</th><th scope=col>&lt;chr&gt;</th><th scope=col>&lt;chr&gt;</th><th scope=col>&lt;chr&gt;</th><th scope=col>&lt;chr&gt;</th><th scope=col>&lt;chr&gt;</th><th scope=col>&lt;int&gt;</th><th scope=col>&lt;int&gt;</th><th scope=col>&lt;int&gt;</th><th scope=col>&lt;chr&gt;</th><th scope=col>&lt;chr&gt;</th></tr>\n",
       "</thead>\n",
       "<tbody>\n",
       "</tbody>\n",
       "</table>\n"
      ],
      "text/latex": [
       "A data.table: 0 × 15\n",
       "\\begin{tabular}{lllllllllllllll}\n",
       " age & workclass & fnlwgt & education & education\\_num & marital\\_status & occupation & relationship & race & sex & capital\\_gain & capital\\_loss & hours\\_per\\_week & native\\_country & income\\\\\n",
       " <int> & <chr> & <int> & <chr> & <int> & <chr> & <chr> & <chr> & <chr> & <chr> & <int> & <int> & <int> & <chr> & <chr>\\\\\n",
       "\\hline\n",
       "\\end{tabular}\n"
      ],
      "text/markdown": [
       "\n",
       "A data.table: 0 × 15\n",
       "\n",
       "| age &lt;int&gt; | workclass &lt;chr&gt; | fnlwgt &lt;int&gt; | education &lt;chr&gt; | education_num &lt;int&gt; | marital_status &lt;chr&gt; | occupation &lt;chr&gt; | relationship &lt;chr&gt; | race &lt;chr&gt; | sex &lt;chr&gt; | capital_gain &lt;int&gt; | capital_loss &lt;int&gt; | hours_per_week &lt;int&gt; | native_country &lt;chr&gt; | income &lt;chr&gt; |\n",
       "|---|---|---|---|---|---|---|---|---|---|---|---|---|---|---|\n",
       "\n"
      ],
      "text/plain": [
       "     age workclass fnlwgt education education_num marital_status occupation\n",
       "     relationship race sex capital_gain capital_loss hours_per_week\n",
       "     native_country income"
      ]
     },
     "metadata": {},
     "output_type": "display_data"
    }
   ],
   "source": [
    "united_countries <- adult_data %>%\n",
    "  filter(str_detect(native_country, \"(?<=United)\\\\s\\\\w+\"))\n",
    "head(united_countries)"
   ]
  },
  {
   "cell_type": "markdown",
   "id": "4458b91e-77c1-4f07-8c12-c252f0865250",
   "metadata": {
    "tags": []
   },
   "source": [
    "## ?= positive look ahead"
   ]
  },
  {
   "cell_type": "markdown",
   "id": "122011cf-1e3c-4c1f-8a70-2694ba003cf8",
   "metadata": {
    "tags": []
   },
   "source": [
    "It extracts rows where native_country is followed by \"States,\""
   ]
  },
  {
   "cell_type": "code",
   "execution_count": 19,
   "id": "c004a968-c522-4549-9edb-c355726ec0ee",
   "metadata": {
    "tags": []
   },
   "outputs": [
    {
     "data": {
      "text/html": [
       "<table class=\"dataframe\">\n",
       "<caption>A data.table: 0 × 15</caption>\n",
       "<thead>\n",
       "\t<tr><th scope=col>age</th><th scope=col>workclass</th><th scope=col>fnlwgt</th><th scope=col>education</th><th scope=col>education_num</th><th scope=col>marital_status</th><th scope=col>occupation</th><th scope=col>relationship</th><th scope=col>race</th><th scope=col>sex</th><th scope=col>capital_gain</th><th scope=col>capital_loss</th><th scope=col>hours_per_week</th><th scope=col>native_country</th><th scope=col>income</th></tr>\n",
       "\t<tr><th scope=col>&lt;int&gt;</th><th scope=col>&lt;chr&gt;</th><th scope=col>&lt;int&gt;</th><th scope=col>&lt;chr&gt;</th><th scope=col>&lt;int&gt;</th><th scope=col>&lt;chr&gt;</th><th scope=col>&lt;chr&gt;</th><th scope=col>&lt;chr&gt;</th><th scope=col>&lt;chr&gt;</th><th scope=col>&lt;chr&gt;</th><th scope=col>&lt;int&gt;</th><th scope=col>&lt;int&gt;</th><th scope=col>&lt;int&gt;</th><th scope=col>&lt;chr&gt;</th><th scope=col>&lt;chr&gt;</th></tr>\n",
       "</thead>\n",
       "<tbody>\n",
       "</tbody>\n",
       "</table>\n"
      ],
      "text/latex": [
       "A data.table: 0 × 15\n",
       "\\begin{tabular}{lllllllllllllll}\n",
       " age & workclass & fnlwgt & education & education\\_num & marital\\_status & occupation & relationship & race & sex & capital\\_gain & capital\\_loss & hours\\_per\\_week & native\\_country & income\\\\\n",
       " <int> & <chr> & <int> & <chr> & <int> & <chr> & <chr> & <chr> & <chr> & <chr> & <int> & <int> & <int> & <chr> & <chr>\\\\\n",
       "\\hline\n",
       "\\end{tabular}\n"
      ],
      "text/markdown": [
       "\n",
       "A data.table: 0 × 15\n",
       "\n",
       "| age &lt;int&gt; | workclass &lt;chr&gt; | fnlwgt &lt;int&gt; | education &lt;chr&gt; | education_num &lt;int&gt; | marital_status &lt;chr&gt; | occupation &lt;chr&gt; | relationship &lt;chr&gt; | race &lt;chr&gt; | sex &lt;chr&gt; | capital_gain &lt;int&gt; | capital_loss &lt;int&gt; | hours_per_week &lt;int&gt; | native_country &lt;chr&gt; | income &lt;chr&gt; |\n",
       "|---|---|---|---|---|---|---|---|---|---|---|---|---|---|---|\n",
       "\n"
      ],
      "text/plain": [
       "     age workclass fnlwgt education education_num marital_status occupation\n",
       "     relationship race sex capital_gain capital_loss hours_per_week\n",
       "     native_country income"
      ]
     },
     "metadata": {},
     "output_type": "display_data"
    }
   ],
   "source": [
    "usa_states <- adult_data %>%\n",
    "  filter(str_detect(native_country, \"United(?= States)\"))\n",
    "head(usa_states)"
   ]
  },
  {
   "cell_type": "code",
   "execution_count": null,
   "id": "7fc47646-6e95-46a3-aa65-35fcc4706885",
   "metadata": {},
   "outputs": [],
   "source": []
  }
 ],
 "metadata": {
  "kernelspec": {
   "display_name": "R",
   "language": "R",
   "name": "ir"
  },
  "language_info": {
   "codemirror_mode": "r",
   "file_extension": ".r",
   "mimetype": "text/x-r-source",
   "name": "R",
   "pygments_lexer": "r",
   "version": "4.2.1"
  }
 },
 "nbformat": 4,
 "nbformat_minor": 5
}
